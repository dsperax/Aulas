{
  "nbformat": 4,
  "nbformat_minor": 0,
  "metadata": {
    "colab": {
      "provenance": [],
      "authorship_tag": "ABX9TyOldDNb8/tl3nhTrFrtegtT",
      "include_colab_link": true
    },
    "kernelspec": {
      "name": "python3",
      "display_name": "Python 3"
    },
    "language_info": {
      "name": "python"
    }
  },
  "cells": [
    {
      "cell_type": "markdown",
      "metadata": {
        "id": "view-in-github",
        "colab_type": "text"
      },
      "source": [
        "<a href=\"https://colab.research.google.com/github/dsperax/Aulas/blob/feature%2Fsamile-teste/Untitled3.ipynb\" target=\"_parent\"><img src=\"https://colab.research.google.com/assets/colab-badge.svg\" alt=\"Open In Colab\"/></a>"
      ]
    },
    {
      "cell_type": "code",
      "execution_count": 33,
      "metadata": {
        "colab": {
          "base_uri": "https://localhost:8080/"
        },
        "id": "qG9uq1Xcosqi",
        "outputId": "0e7fcfc2-8d2f-48b7-a676-2150b749be0d"
      },
      "outputs": [
        {
          "output_type": "stream",
          "name": "stdout",
          "text": [
            "bingo\n"
          ]
        }
      ],
      "source": [
        "a = 5\n",
        "b = 4\n",
        "c = 9\n",
        "if a + b > c:\n",
        "    print(a, b)\n",
        "\n",
        "if a + b == c:\n",
        "    print(\"bingo\")\n",
        "\n",
        "if a+b < c:\n",
        "    print(f'O valor de \"a\" ({a}), \"b\" ({b}), \"c\" ({c}), soma ({soma_ab}) e o quadrado de \"c\" ({c**2})')"
      ]
    },
    {
      "cell_type": "code",
      "source": [
        "string1 = 'sua'\n",
        "string2 = 'borboleta'\n",
        "string3 = 'varanda'\n",
        "string4 = 'a'\n",
        "string5 = 'mudou'\n",
        "\n",
        "strings_ordenadas = sorted([string1, string2, string3, string4, string5])\n",
        "print(strings_ordenadas)\n",
        "\n",
        "for posicao, valor in enumerate(strings_ordenadas):\n",
        "    print(f'Posição {posicao + 1}: {valor}')"
      ],
      "metadata": {
        "colab": {
          "base_uri": "https://localhost:8080/"
        },
        "id": "UvV2UUMR2eSh",
        "outputId": "6ca04713-adad-4466-9f8b-5fbed56bb170"
      },
      "execution_count": 42,
      "outputs": [
        {
          "output_type": "stream",
          "name": "stdout",
          "text": [
            "['a', 'borboleta', 'mudou', 'sua', 'varanda']\n",
            "Posição 1: a\n",
            "Posição 2: borboleta\n",
            "Posição 3: mudou\n",
            "Posição 4: sua\n",
            "Posição 5: varanda\n"
          ]
        }
      ]
    }
  ]
}
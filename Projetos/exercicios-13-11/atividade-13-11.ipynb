{
  "nbformat": 4,
  "nbformat_minor": 0,
  "metadata": {
    "colab": {
      "provenance": [],
      "toc_visible": true
    },
    "kernelspec": {
      "name": "python3",
      "display_name": "Python 3"
    },
    "language_info": {
      "name": "python"
    }
  },
  "cells": [
    {
      "cell_type": "code",
      "source": [
        "usuario = input(\"Digite o nome: \")\n",
        "a = int(input('digite o primeiro numero: '))\n",
        "b = int(input('digite o segundo numero: '))\n",
        "c = int(input('digite o terceiro numero: '))\n",
        "\n",
        "soma_ab = a + b\n",
        "\n",
        "if soma_ab > c:\n",
        "    print(f\"A soma de {a} e {b} é maior que {c}.\")\n",
        "    print(f\"Resultado: {soma_ab}\")\n",
        "else:\n",
        "    print(f\"A soma de {a} e {b} é menor ou igual a {c}.\")\n",
        "    print(f\"Resultado: {soma_ab - c}\")\n"
      ],
      "metadata": {
        "colab": {
          "base_uri": "https://localhost:8080/"
        },
        "id": "z-QZyQG6Sc5e",
        "outputId": "56245240-498a-4f46-e7c7-2c4e59b46596"
      },
      "execution_count": null,
      "outputs": [
        {
          "output_type": "stream",
          "name": "stdout",
          "text": [
            "Digite o nome: manu\n",
            "digite o primeiro numero: 2\n",
            "digite o segundo numero: 22\n",
            "digite o terceiro numero: 8\n",
            "A soma de 2 e 22 é maior que 8.\n",
            "Resultado: 24\n"
          ]
        }
      ]
    },
    {
      "cell_type": "code",
      "source": [
        "nome1 = input(\"Digite o nome: \")\n",
        "nome2 = input(\"Digite o nome: \")\n",
        "nome3 = input(\"Digite o nome: \")\n",
        "nome4 = input(\"Digite o nome: \")\n",
        "nome5 = input(\"Digite o nome: \")\n",
        "\n",
        "nomes = (nome1, nome2, nome3, nome4, nome5)\n",
        "palavras_ordenadas = sorted(nomes)\n",
        "\n",
        "for posicao, palavra in enumerate(palavras_ordenadas, start=1):\n",
        "  print(f\"Na posição {posicao}, o valor é {palavra}\")\n"
      ],
      "metadata": {
        "colab": {
          "base_uri": "https://localhost:8080/"
        },
        "id": "kYPUoM5tYhe4",
        "outputId": "50a1367a-fd89-41a5-e284-125b09b76fd0"
      },
      "execution_count": 13,
      "outputs": [
        {
          "output_type": "stream",
          "name": "stdout",
          "text": [
            "Digite o nome: gffj\n",
            "Digite o nome: vjjk\n",
            "Digite o nome: hg\n",
            "Digite o nome: fgjh\n",
            "Digite o nome: fj\n",
            "Na posição 1, o valor é fgjh\n",
            "Na posição 2, o valor é fj\n",
            "Na posição 3, o valor é gffj\n",
            "Na posição 4, o valor é hg\n",
            "Na posição 5, o valor é vjjk\n"
          ]
        }
      ]
    },
    {
      "cell_type": "code",
      "source": [
        "usuario = input(\"Digite o nome: \")\n",
        "a = int(input(\"Digite o primeiro numero: \"))\n",
        "b = int(input(\"Digite o segundo numero: \"))\n",
        "c = int(input(\"Digite o terceiro numero: \"))\n",
        "\n",
        "soma_ab = a + b\n",
        "\n",
        "if soma_ab > c:\n",
        "    print(f\"A soma de {a} e {b} é maior que {c}.\")\n",
        "    print(f\"Resultado: {soma_ab}\")\n",
        "else:\n",
        "    print(f\"A soma de {a} e {b} é menor ou igual a {c}.\")\n",
        "    print(f\"Resultado: {soma_ab - c}\")"
      ],
      "metadata": {
        "colab": {
          "base_uri": "https://localhost:8080/"
        },
        "id": "Tjb_KpjUUJIk",
        "outputId": "45a5f1f6-9516-46d6-abf4-1fe84ea4c9bd"
      },
      "execution_count": null,
      "outputs": [
        {
          "output_type": "stream",
          "name": "stdout",
          "text": [
            "Digite o nome: Mnu\n",
            "Digite o primeiro numero: 6\n",
            "Digite o segundo numero: 19\n",
            "Digite o terceiro numero: 5\n",
            "A soma de 6 e 19 é maior que 5.\n",
            "Resultado: 25\n"
          ]
        }
      ]
    },
    {
      "cell_type": "code",
      "source": [
        "nome1 = input(\"Digite o nome: \")\n",
        "nome2 = input(\"Digite o nome: \")\n",
        "a = int(input('digite o primeiro numero: '))\n",
        "b = int(input('digite o segundo numero: '))\n",
        "\n",
        "nomes = (nome1,nome2)\n",
        "soma = a + b\n",
        "\n",
        "palavras_ordenadas = sorted(nomes)\n",
        "\n",
        "for posicao, palavra in enumerate(palavras_ordenadas, start=1):\n",
        "  print(f\"Na posição {posicao}, o valor é {palavra}\")\n",
        "\n",
        "if soma   > b:\n",
        "  print(f\"Resultado da soma: {soma}\")"
      ],
      "metadata": {
        "colab": {
          "base_uri": "https://localhost:8080/"
        },
        "id": "xvDKPzRdHmBm",
        "outputId": "ec749566-a0b2-4c6b-acc7-02fc6e60d0dc"
      },
      "execution_count": 19,
      "outputs": [
        {
          "output_type": "stream",
          "name": "stdout",
          "text": [
            "Digite o nome: manu\n",
            "Digite o nome: r\n",
            "digite o primeiro numero: 7\n",
            "digite o segundo numero: 6\n",
            "Na posição 1, o valor é manu\n",
            "Na posição 2, o valor é r\n",
            "Resultado da soma: 13\n"
          ]
        }
      ]
    },
    {
      "cell_type": "code",
      "source": [
        "a= int(input('digite o primeiro numero: '))\n",
        "b = int(input('digite o segundo numero: '))\n",
        "\n",
        "numeros = ( a, b)\n",
        "\n",
        "for numero in numeros:\n",
        "   if numero % 2 == 0:\n",
        "       print(f\"Número par: {numero}\")"
      ],
      "metadata": {
        "colab": {
          "base_uri": "https://localhost:8080/"
        },
        "id": "FW0OhGPlHrPG",
        "outputId": "d1243c49-95bb-44ab-b105-7614123a2fef"
      },
      "execution_count": 20,
      "outputs": [
        {
          "output_type": "stream",
          "name": "stdout",
          "text": [
            "digite o primeiro numero: 8\n",
            "digite o segundo numero: 7\n",
            "Número par: 8\n"
          ]
        }
      ]
    },
    {
      "cell_type": "code",
      "source": [
        "numeros = [1, 2, 3, 4, 5]\n",
        "\n",
        "for numero in numeros:\n",
        "    if numero % 2 == 0:\n",
        "        print(f\"Número ímpar: {numero}\")\n",
        "    else:\n",
        "        print(f\"Número par: {numero}\")"
      ],
      "metadata": {
        "colab": {
          "base_uri": "https://localhost:8080/"
        },
        "id": "rWmrVJiDH4I9",
        "outputId": "44d5b5a2-69ad-467d-e9d6-764580ddecd8"
      },
      "execution_count": 21,
      "outputs": [
        {
          "output_type": "stream",
          "name": "stdout",
          "text": [
            "Número par: 1\n",
            "Número ímpar: 2\n",
            "Número par: 3\n",
            "Número ímpar: 4\n",
            "Número par: 5\n"
          ]
        }
      ]
    },
    {
      "cell_type": "code",
      "source": [
        "usuario = \"nome\"\n",
        "a = 8\n",
        "b = 19\n",
        "c = 5\n",
        "\n",
        "soma_ab = a + b  # Calcula a soma de a e b\n",
        "\n",
        "if soma_ab > c:\n",
        "    print(soma_ab)"
      ],
      "metadata": {
        "colab": {
          "base_uri": "https://localhost:8080/"
        },
        "id": "mVz5DydXSTP_",
        "outputId": "4f38e86d-352d-476f-e509-d256c3bf9e78"
      },
      "execution_count": null,
      "outputs": [
        {
          "output_type": "stream",
          "name": "stdout",
          "text": [
            "27\n"
          ]
        }
      ]
    }
  ]
}
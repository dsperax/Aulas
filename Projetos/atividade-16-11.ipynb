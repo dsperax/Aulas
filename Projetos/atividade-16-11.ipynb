{
  "nbformat": 4,
  "nbformat_minor": 0,
  "metadata": {
    "colab": {
      "provenance": [],
      "toc_visible": true
    },
    "kernelspec": {
      "name": "python3",
      "display_name": "Python 3"
    },
    "language_info": {
      "name": "python"
    }
  },
  "cells": [
    {
      "cell_type": "code",
      "execution_count": null,
      "metadata": {
        "id": "jH5J4OxdK5Pr"
      },
      "outputs": [],
      "source": [
        "= (\"Boa noite!\")\n",
        "b= (\"seja bem vindo!\")\n",
        "c= (\"tenho o objetivo de criar uma senha segura\")\n",
        "print( a)\n",
        "print( b)\n",
        "print( c)\n",
        "\n",
        "c= int(input('digite o primeiro numero: '))\n",
        "d= input('digite um simbolo: ')\n",
        "e= int(input('digite o segundo numero: '))\n",
        "f= input('digite a primera letra maiuscula: ')\n",
        "g= input('digite a primera letra minuscula: ')\n",
        "h= input('digite a segunda letra minuscula: ')\n",
        "\n",
        "senha = str(c) + d + str(e) + f + g + h\n",
        "\n",
        "print(\"Sua senha segura é:\", senha)\n"
      ]
    }
  ]
}
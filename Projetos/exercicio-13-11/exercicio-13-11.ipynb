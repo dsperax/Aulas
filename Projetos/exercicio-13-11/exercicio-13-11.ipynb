{
  "nbformat": 4,
  "nbformat_minor": 0,
  "metadata": {
    "colab": {
      "provenance": []
    },
    "kernelspec": {
      "name": "python3",
      "display_name": "Python 3"
    },
    "language_info": {
      "name": "python"
    }
  },
  "cells": [
    {
      "cell_type": "code",
      "source": [
        "lista = ('Planetas', 'Cometas', 'Estrelas')\n",
        "\n",
        "for nome in lista:\n",
        "\n",
        "  if nome == 'Estrelas':\n",
        "\n",
        "   print('Sao consideradas Estrelas')"
      ],
      "metadata": {
        "colab": {
          "base_uri": "https://localhost:8080/"
        },
        "id": "HghQ7ZAy05oH",
        "outputId": "1bfcf3fa-79e1-4c2a-8c30-38971343d3c1"
      },
      "execution_count": 28,
      "outputs": [
        {
          "output_type": "stream",
          "name": "stdout",
          "text": [
            "Sao consideradas Estrelas\n"
          ]
        }
      ]
    },
    {
      "cell_type": "code",
      "source": [
        "lista_numeros = (5, 10, 15, 20, 25, 30)\n",
        "\n",
        "for numeros in lista_numeros:\n",
        "\n",
        "  if 10<15:\n",
        "\n",
        "   print(\"Sim e menor que 15\")\n",
        "\n",
        "  else:\n",
        "\n",
        "   print(\"Nao e maior que 15\")"
      ],
      "metadata": {
        "colab": {
          "base_uri": "https://localhost:8080/"
        },
        "id": "-cpNw2yX58xC",
        "outputId": "94451f87-3699-4116-eb27-e4919972677a"
      },
      "execution_count": 25,
      "outputs": [
        {
          "output_type": "stream",
          "name": "stdout",
          "text": [
            "Sim e menor que 15\n",
            "Sim e menor que 15\n",
            "Sim e menor que 15\n"
          ]
        }
      ]
    },
    {
      "cell_type": "code",
      "source": [
        "lista_numeros = (2, 4, 6, 8, 10)\n",
        "\n",
        "for numeros in lista_numeros:\n",
        "\n",
        "  if (2 + 4 < 8):\n",
        "\n",
        "    print(\"Sim e menor que 8\")\n",
        "\n",
        "  else:\n",
        "\n",
        "    print(\"Nao e menor que 8\")"
      ],
      "metadata": {
        "colab": {
          "base_uri": "https://localhost:8080/"
        },
        "id": "9ftmPILV9bmf",
        "outputId": "b516f9af-a9a7-4d68-99ed-984d235813d2"
      },
      "execution_count": 26,
      "outputs": [
        {
          "output_type": "stream",
          "name": "stdout",
          "text": [
            "Sim e menor que 8\n",
            "Sim e menor que 8\n",
            "Sim e menor que 8\n"
          ]
        }
      ]
    },
    {
      "cell_type": "code",
      "source": [
        "lista_numeros = (10, 20, 30, 40, 50)\n",
        "\n",
        "for numero in lista_numeros:\n",
        "\n",
        "  if (50>20):\n",
        "\n",
        "   print(\"E maior que 20\")\n",
        "\n",
        "  else:\n",
        "\n",
        "   print(\"E menor que 20\")"
      ],
      "metadata": {
        "colab": {
          "base_uri": "https://localhost:8080/"
        },
        "id": "KqTTOW2rA7Fp",
        "outputId": "f2a7cf3f-e485-4761-9c89-c44c595a6e00"
      },
      "execution_count": 42,
      "outputs": [
        {
          "output_type": "stream",
          "name": "stdout",
          "text": [
            "E maior que 20\n",
            "E maior que 20\n",
            "E maior que 20\n",
            "E maior que 20\n",
            "E maior que 20\n"
          ]
        }
      ]
    },
    {
      "cell_type": "code",
      "source": [
        "lista_numeros = (5, 7, 9)\n",
        "\n",
        "for numero in lista_numeros:\n",
        "\n",
        "  if (\"Par\"):\n",
        "\n",
        "   print(\"E Impar\")\n",
        "\n",
        "  else:\n",
        "\n",
        "   print(\"E Par\")"
      ],
      "metadata": {
        "colab": {
          "base_uri": "https://localhost:8080/"
        },
        "id": "ShBZtZ3qHJAG",
        "outputId": "6702bb95-5af5-4908-8cbf-102f1569bd57"
      },
      "execution_count": 45,
      "outputs": [
        {
          "output_type": "stream",
          "name": "stdout",
          "text": [
            "E Impar\n",
            "E Impar\n",
            "E Impar\n"
          ]
        }
      ]
    }
  ]
}
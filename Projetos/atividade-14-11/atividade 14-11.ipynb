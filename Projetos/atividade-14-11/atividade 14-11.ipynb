{
  "nbformat": 4,
  "nbformat_minor": 0,
  "metadata": {
    "colab": {
      "provenance": [],
      "toc_visible": true
    },
    "kernelspec": {
      "name": "python3",
      "display_name": "Python 3"
    },
    "language_info": {
      "name": "python"
    }
  },
  "cells": [
    {
      "cell_type": "code",
      "execution_count": 31,
      "metadata": {
        "colab": {
          "base_uri": "https://localhost:8080/"
        },
        "id": "UaI9BG1R5dMX",
        "outputId": "074a9aac-388c-4770-88f9-3797566d0fd0"
      },
      "outputs": [
        {
          "output_type": "stream",
          "name": "stdout",
          "text": [
            "ola\n",
            "seja bem vindo!\n",
            "tenho objetivo descobrir sua idade\n",
            "digite o ano atual: 2023\n",
            "digite o ano que nasceu: 2004\n",
            "Sua idade é: 19\n"
          ]
        }
      ],
      "source": [
        "a= (\"ola\")\n",
        "b= (\"seja bem vindo!\")\n",
        "c= (\"tenho objetivo descobrir sua idade\")\n",
        "print( a)\n",
        "print( b)\n",
        "print( c)\n",
        "c= int(input('digite o ano atual: '))\n",
        "d= int(input('digite o ano que nasceu: '))\n",
        "\n",
        "idade = c - d\n",
        "\n",
        "if idade > 0:\n",
        " print(\"Sua idade é:\", idade)\n",
        "else:(\"Ano que voce nasceu\")"
      ]
    },
    {
      "cell_type": "code",
      "source": [
        "a= (\"Boa noite!\")\n",
        "b= (\"seja bem vindo!\")\n",
        "c= (\"tenho o objetivo de criar uma senha segura\")\n",
        "print( a)\n",
        "print( b)\n",
        "print( c)\n",
        "\n",
        "c= int(input('digite o primeiro numero: '))\n",
        "d= input('digite um simbolo: ')\n",
        "e= int(input('digite o segundo numero: '))\n",
        "f= input('digite a primera letra maiuscula: ')\n",
        "g= input('digite a primera letra minuscula: ')\n",
        "h= input('digite um ponto: ')\n",
        "\n"
      ],
      "metadata": {
        "colab": {
          "base_uri": "https://localhost:8080/"
        },
        "id": "Kr6t_FhTGuk4",
        "outputId": "6a26f74d-33ee-4c0e-d07a-f213abdfca4f"
      },
      "execution_count": 37,
      "outputs": [
        {
          "name": "stdout",
          "output_type": "stream",
          "text": [
            "Boa noite!\n",
            "seja bem vindo!\n",
            "tenho o objetivo de criar uma senha segura\n",
            "digite o primeiro numero: 4\n",
            "digite um simbolo: 3\n",
            "digite o segundo numero: 3\n",
            "digite uma letra: 7\n"
          ]
        }
      ]
    }
  ]
}
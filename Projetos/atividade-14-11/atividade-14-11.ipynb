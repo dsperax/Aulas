{
  "nbformat": 4,
  "nbformat_minor": 0,
  "metadata": {
    "colab": {
      "provenance": []
    },
    "kernelspec": {
      "name": "python3",
      "display_name": "Python 3"
    },
    "language_info": {
      "name": "python"
    }
  },
  "cells": [
    {
      "cell_type": "code",
      "execution_count": 28,
      "metadata": {
        "colab": {
          "base_uri": "https://localhost:8080/"
        },
        "id": "RWah8FEG47cd",
        "outputId": "df851b60-8139-4089-e2aa-ad1a0075cd48"
      },
      "outputs": [
        {
          "output_type": "stream",
          "name": "stdout",
          "text": [
            "Eii, tudo bem ? Iremos precisar de algumas informacoes para o seu cadastro, por favor digite os caracteres\n",
            "digite o seu nome completo: Gabriel Santos\n",
            "digite a sua data de nascimento: xx/xx/xxxx\n",
            "digite o seu CPF: xxx.xxx.xxx-xx\n",
            "digite o seu numero de celular: (xx) xxxxx-xxxx\n",
            "digite o seu e-mail: gabrielsantos@hotmail.com\n",
            "Agradeco pela sua colaboracao, entraremos em contato mandando todas as informacoes 😀\n"
          ]
        }
      ],
      "source": [
        "a = (\"Eii, tudo bem ? Iremos precisar de algumas informacoes para o seu cadastro, por favor digite os caracteres\")\n",
        "\n",
        "print(a)\n",
        "\n",
        "b = input(\"digite o seu nome completo: \")\n",
        "c = input(\"digite a sua data de nascimento: \")\n",
        "d = input(\"digite o seu CPF: \")\n",
        "e = input(\"digite o seu numero de celular: \")\n",
        "f = input(\"digite o seu e-mail: \")\n",
        "\n",
        "mensagem = f\"Agradeco pela sua colaboracao, entraremos em contato mandando todas as informacoes \\U0001F600\"\n",
        "\n",
        "print(mensagem)"
      ]
    }
  ]
}
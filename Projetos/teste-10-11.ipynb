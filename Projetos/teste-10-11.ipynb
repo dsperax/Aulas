{
  "nbformat": 4,
  "nbformat_minor": 0,
  "metadata": {
    "colab": {
      "provenance": []
    },
    "kernelspec": {
      "name": "python3",
      "display_name": "Python 3"
    },
    "language_info": {
      "name": "python"
    }
  },
  "cells": [
    {
      "cell_type": "code",
      "source": [
        "usuario = input(\"Digite o nome: \")\n",
        "a = int(input('digite o primeiro numero: '))\n",
        "b = int(input('digite o segundo numero: '))\n",
        "c = int(input('digite o terceiro numero: '))\n",
        "\n",
        "soma_ab = a + b\n",
        "\n",
        "if soma_ab > c:\n",
        "    print(f\"A soma de {a} e {b} é maior que {c}.\")\n",
        "    print(f\"Resultado: {soma_ab}\")\n",
        "else:\n",
        "    print(f\"A soma de {a} e {b} é menor ou igual a {c}.\")\n",
        "    print(f\"Resultado: {soma_ab - c}\")\n"
      ],
      "metadata": {
        "colab": {
          "base_uri": "https://localhost:8080/"
        },
        "id": "z-QZyQG6Sc5e",
        "outputId": "56245240-498a-4f46-e7c7-2c4e59b46596"
      },
      "execution_count": 22,
      "outputs": [
        {
          "output_type": "stream",
          "name": "stdout",
          "text": [
            "Digite o nome: manu\n",
            "digite o primeiro numero: 2\n",
            "digite o segundo numero: 22\n",
            "digite o terceiro numero: 8\n",
            "A soma de 2 e 22 é maior que 8.\n",
            "Resultado: 24\n"
          ]
        }
      ]
    },
    {
      "cell_type": "code",
      "source": [
        "nome1 = input(\"Digite o nome: \")\n",
        "nome2 = input(\"Digite o nome: \")\n",
        "nome3 = input(\"Digite o nome: \")\n",
        "nome4 = input(\"Digite o nome: \")\n",
        "nome5 = input(\"Digite o nome: \")\n",
        "\n",
        "nomes = f\"{nome1} {nome2} {nome3} {nome4} {nome5}\"\n",
        "palavras_ordenadas = sorted(nomes)\n",
        "\n",
        "for z, palavra in enumerate(palavras_ordenadas, start=1):\n",
        "  print(f\"Na posição {nomes}, o valor é {palavras_ordenadas}\")\n"
      ],
      "metadata": {
        "colab": {
          "base_uri": "https://localhost:8080/"
        },
        "id": "kYPUoM5tYhe4",
        "outputId": "d1639d0a-f44e-4082-a723-2304778ebf81"
      },
      "execution_count": 69,
      "outputs": [
        {
          "output_type": "stream",
          "name": "stdout",
          "text": [
            "Digite o nome: s\n",
            "Digite o nome: a\n",
            "Digite o nome: ac\n",
            "Digite o nome: v\n",
            "Digite o nome: b\n",
            "Na posição s a ac v b, o valor é s\n",
            "Na posição s a ac v b, o valor é  \n",
            "Na posição s a ac v b, o valor é a\n",
            "Na posição s a ac v b, o valor é  \n",
            "Na posição s a ac v b, o valor é a\n",
            "Na posição s a ac v b, o valor é c\n",
            "Na posição s a ac v b, o valor é  \n",
            "Na posição s a ac v b, o valor é v\n",
            "Na posição s a ac v b, o valor é  \n",
            "Na posição s a ac v b, o valor é b\n"
          ]
        }
      ]
    },
    {
      "cell_type": "code",
      "source": [
        "usuario = input(\"Digite o nome: \")\n",
        "a = int(input(\"Digite o primeiro numero: \"))\n",
        "b = int(input(\"Digite o segundo numero: \"))\n",
        "c = int(input(\"Digite o terceiro numero: \"))\n",
        "\n",
        "soma_ab = a + b\n",
        "\n",
        "if soma_ab > c:\n",
        "    print(f\"A soma de {a} e {b} é maior que {c}.\")\n",
        "    print(f\"Resultado: {soma_ab}\")\n",
        "else:\n",
        "    print(f\"A soma de {a} e {b} é menor ou igual a {c}.\")\n",
        "    print(f\"Resultado: {soma_ab - c}\")"
      ],
      "metadata": {
        "colab": {
          "base_uri": "https://localhost:8080/"
        },
        "id": "Tjb_KpjUUJIk",
        "outputId": "45a5f1f6-9516-46d6-abf4-1fe84ea4c9bd"
      },
      "execution_count": 16,
      "outputs": [
        {
          "output_type": "stream",
          "name": "stdout",
          "text": [
            "Digite o nome: Mnu\n",
            "Digite o primeiro numero: 6\n",
            "Digite o segundo numero: 19\n",
            "Digite o terceiro numero: 5\n",
            "A soma de 6 e 19 é maior que 5.\n",
            "Resultado: 25\n"
          ]
        }
      ]
    },
    {
      "cell_type": "code",
      "source": [
        "usuario = \"nome\"\n",
        "a = 8\n",
        "b = 19\n",
        "c = 5\n",
        "\n",
        "soma_ab = a + b  # Calcula a soma de a e b\n",
        "\n",
        "if soma_ab > c:\n",
        "    print(soma_ab)"
      ],
      "metadata": {
        "colab": {
          "base_uri": "https://localhost:8080/"
        },
        "id": "mVz5DydXSTP_",
        "outputId": "4f38e86d-352d-476f-e509-d256c3bf9e78"
      },
      "execution_count": 11,
      "outputs": [
        {
          "output_type": "stream",
          "name": "stdout",
          "text": [
            "27\n"
          ]
        }
      ]
    }
  ]
}
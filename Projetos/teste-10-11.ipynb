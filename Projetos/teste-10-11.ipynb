{
  "nbformat": 4,
  "nbformat_minor": 0,
  "metadata": {
    "colab": {
      "provenance": []
    },
    "kernelspec": {
      "name": "python3",
      "display_name": "Python 3"
    },
    "language_info": {
      "name": "python"
    }
  },
  "cells": [
    {
      "cell_type": "code",
      "execution_count": 81,
      "metadata": {
        "colab": {
          "base_uri": "https://localhost:8080/"
        },
        "id": "XdxI6sVfjpKi",
        "outputId": "7a89c4ae-dcba-4e44-813f-e188ccd80cd5"
      },
      "outputs": [
        {
          "output_type": "stream",
          "name": "stdout",
          "text": [
            "a = 7, b = 5, c = 3\n"
          ]
        }
      ],
      "source": [
        "usuario = (\"nome\")\n",
        "\n",
        "lista = ('a = 7, b = 5, c = 3')\n",
        "\n",
        "if (\"a + b > c^\"):\n",
        "\n",
        " print(lista)"
      ]
    },
    {
      "cell_type": "code",
      "source": [
        "usuario = (\"Bingo\")\n",
        "\n",
        "lista = ('a = 2, b = 3, c = 5')\n",
        "\n",
        "if (\"a + b = c\"):\n",
        "\n",
        " print(usuario)"
      ],
      "metadata": {
        "colab": {
          "base_uri": "https://localhost:8080/"
        },
        "id": "amepVpwpmHLE",
        "outputId": "9c4d4a50-9fdb-40c1-d264-1399106c449d"
      },
      "execution_count": 62,
      "outputs": [
        {
          "output_type": "stream",
          "name": "stdout",
          "text": [
            "Bingo\n"
          ]
        }
      ]
    },
    {
      "cell_type": "code",
      "source": [
        "Usuario = (\"Codigo\")\n",
        "\n",
        "Lista = ('a = 3, b = 5, c = 3^')\n",
        "\n",
        "Mensagem = f\"Usuario: {usuario}, Lista: {lista}, Soma: {Soma}, Quadrado: {Quadrado}\"\n",
        "\n",
        "Soma = (\"a + b = 3 + 5 = 8\")\n",
        "\n",
        "Quadrado = (\"c^ = 3^ = 9\")\n",
        "\n",
        "print(Mensagem)"
      ],
      "metadata": {
        "colab": {
          "base_uri": "https://localhost:8080/"
        },
        "id": "o_RdRonyRrwm",
        "outputId": "b1d15210-b758-4cc7-a0bb-16e7d58505d0"
      },
      "execution_count": 79,
      "outputs": [
        {
          "output_type": "stream",
          "name": "stdout",
          "text": [
            "Usuario: Codigo, Lista: a = 3, b = 5, c = 3^, Soma: a + b = 3 + 5 = 8, Quadrado: c^ = 3^ = 9\n"
          ]
        }
      ]
    },
    {
      "cell_type": "code",
      "source": [
        "a = input(\"digite uma palavra: \")\n",
        "b = input(\"digite uma palavra: \")\n",
        "c = input(\"digite uma palavra: \")\n",
        "d = input(\"digite uma palavra: \")\n",
        "e = input(\"digite uma palavra: \")\n",
        "\n",
        "palavras = (a, b, c, d, e)\n",
        "\n",
        "palavras_ordenadas = sorted(palavras)\n",
        "\n",
        "for nome in lista:\n",
        "\n",
        "  print(nome)"
      ],
      "metadata": {
        "colab": {
          "base_uri": "https://localhost:8080/"
        },
        "id": "yyIkPC4mkhmc",
        "outputId": "670c1338-d232-4296-8c1b-7d612671015b"
      },
      "execution_count": 153,
      "outputs": [
        {
          "output_type": "stream",
          "name": "stdout",
          "text": [
            "digite uma palavra: Uva\n",
            "digite uma palavra: Morango\n",
            "digite uma palavra: Jambo\n",
            "digite uma palavra: Banana\n",
            "digite uma palavra: Amora\n",
            "Amora - 1\n",
            "Banana - 2\n",
            "Jambo - 3\n",
            "Morango - 4\n",
            "Uva - 5\n"
          ]
        }
      ]
    }
  ]
}
{
  "nbformat": 4,
  "nbformat_minor": 0,
  "metadata": {
    "colab": {
      "provenance": [],
      "toc_visible": true
    },
    "kernelspec": {
      "name": "python3",
      "display_name": "Python 3"
    },
    "language_info": {
      "name": "python"
    }
  },
  "cells": [
    {
      "cell_type": "code",
      "execution_count": null,
      "metadata": {
        "colab": {
          "base_uri": "https://localhost:8080/"
        },
        "id": "MjhcaSq7BA2c",
        "outputId": "24edcd59-9dda-4f34-802f-ead8e6eff4d4"
      },
      "outputs": [
        {
          "output_type": "stream",
          "name": "stdout",
          "text": [
            "digite o primeiro numero: 156\n",
            "digite o segundo numero: 155\n",
            "1\n"
          ]
        }
      ],
      "source": [
        "a = int(input('digite o primeiro numero: '))\n",
        "b = int(input('digite o segundo numero: '))\n",
        "\n",
        "if a>b:\n",
        "    print(a-b)\n",
        "\n",
        "else:\n",
        "    print((a-b)*a)"
      ]
    },
    {
      "cell_type": "code",
      "source": [
        "a= int(input('Digite o primeiro numero:'))\n",
        "b= int(input('Digite o segundo numero:'))\n",
        "\n",
        "if a>b:\n",
        "  print(a+b)\n",
        "\n",
        "else:\n",
        "    print(a+b)\n"
      ],
      "metadata": {
        "colab": {
          "base_uri": "https://localhost:8080/"
        },
        "id": "Jknl8ntQBM3n",
        "outputId": "8fa6fbf6-702e-4b2b-a785-49456414a0fa"
      },
      "execution_count": null,
      "outputs": [
        {
          "output_type": "stream",
          "name": "stdout",
          "text": [
            "Digite o primeiro numero:8\n",
            "Digite o segundo numero:7\n",
            "15\n"
          ]
        }
      ]
    }
  ]
}
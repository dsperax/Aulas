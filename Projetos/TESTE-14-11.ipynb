{
  "nbformat": 4,
  "nbformat_minor": 0,
  "metadata": {
    "colab": {
      "provenance": []
    },
    "kernelspec": {
      "name": "python3",
      "display_name": "Python 3"
    },
    "language_info": {
      "name": "python"
    }
  },
  "cells": [
    {
      "cell_type": "code",
      "execution_count": 23,
      "metadata": {
        "colab": {
          "base_uri": "https://localhost:8080/"
        },
        "id": "-T2qkHWj4QSb",
        "outputId": "8bfd5e3a-f8a6-40b7-81a6-a31b9d50c469"
      },
      "outputs": [
        {
          "name": "stdout",
          "output_type": "stream",
          "text": [
            "Digite O NUMERO de A: 4\n",
            "Digite o NUMERO de B: 5\n",
            "Digite o NUMERO de C: 6\n"
          ]
        }
      ],
      "source": [
        "A = float(input(\"Digite O NUMERO de A: \"))\n",
        "B = float(input(\"Digite o NUMERO de B: \"))\n",
        "C = float(input(\"Digite o NUMERO de C: \"))\n",
        "if A + B > C ** 2:\n",
        "  print(f\"Lista: [{A}, {B}, {C}]\")\n",
        "  PRINT (\"BINGO\" )\n",
        "\n",
        "\n",
        "\n",
        "\n"
      ]
    },
    {
      "cell_type": "code",
      "source": [
        "numero_a = float(input(\"Digite o primeiro número (A): \"))\n",
        "numero_b = float(input(\"Digite o segundo número (B): \"))\n",
        "soma = numero_a + numero_b\n",
        "quadrado_c = soma ** 2\n",
        "if soma > quadrado_c:\n",
        "  nome_usuario = input(\"Digite seu nome: \")"
      ],
      "metadata": {
        "colab": {
          "base_uri": "https://localhost:8080/"
        },
        "id": "mSES-lr3E3F_",
        "outputId": "15601472-c6be-4cd5-df3f-69f3b9d2662d"
      },
      "execution_count": 27,
      "outputs": [
        {
          "name": "stdout",
          "output_type": "stream",
          "text": [
            "Digite o primeiro número (A): 4\n",
            "Digite o segundo número (B): 5\n"
          ]
        }
      ]
    },
    {
      "cell_type": "code",
      "source": [
        "palavra=input(\"Digite a 1 palavra: \")\n",
        "input(f\"Digite a 2  palavra: \")\n",
        "input(f\"Digite a 3 palavra: \")\n",
        "input(f\"Digite a 4 palavra: \")\n",
        "input(f\"Digite a 5 palavra: \")"
      ],
      "metadata": {
        "colab": {
          "base_uri": "https://localhost:8080/",
          "height": 127
        },
        "id": "cNObCq9MHU9m",
        "outputId": "760b9c23-2382-445d-a6ab-77f00a646388"
      },
      "execution_count": 28,
      "outputs": [
        {
          "name": "stdout",
          "output_type": "stream",
          "text": [
            "Digite a 1 palavra: carro\n",
            "Digite a 2  palavra: bola\n",
            "Digite a 3 palavra: moto\n",
            "Digite a 4 palavra: arroz\n",
            "Digite a 5 palavra: brinco\n"
          ]
        },
        {
          "output_type": "execute_result",
          "data": {
            "text/plain": [
              "'brinco'"
            ],
            "application/vnd.google.colaboratory.intrinsic+json": {
              "type": "string"
            }
          },
          "metadata": {},
          "execution_count": 28
        }
      ]
    },
    {
      "cell_type": "code",
      "source": [
        "palavras_ordenadas = sorted(\"palavras\")\n",
        "print(\"Palavras originais:\")\n",
        "print(\"palavras\")\n",
        "\"Palavras\".sort(\" carro\", \"brinco\",\"moto\",\"arroz\",\"bola\")\n",
        "\n",
        "\n"
      ],
      "metadata": {
        "id": "8kZdiIfWGEL-"
      },
      "execution_count": null,
      "outputs": []
    }
  ]
}
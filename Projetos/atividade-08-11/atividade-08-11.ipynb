{
  "nbformat": 4,
  "nbformat_minor": 0,
  "metadata": {
    "colab": {
      "provenance": []
    },
    "kernelspec": {
      "name": "python3",
      "display_name": "Python 3"
    },
    "language_info": {
      "name": "python"
    }
  },
  "cells": [
    {
      "cell_type": "code",
      "execution_count": null,
      "metadata": {
        "colab": {
          "base_uri": "https://localhost:8080/"
        },
        "id": "wT42KUrV71WH",
        "outputId": "e1e876e8-a1ef-4674-f19f-633e6e43167a"
      },
      "outputs": [
        {
          "output_type": "stream",
          "name": "stdout",
          "text": [
            "9\n",
            "82\n"
          ]
        }
      ],
      "source": [
        "a= 40\n",
        "b= 42\n",
        "c= 9\n",
        "print(c)\n",
        "c=(a+b)\n",
        "print(c)"
      ]
    },
    {
      "cell_type": "code",
      "source": [
        "a= \"manu\"\n",
        "b= \"nascimento\"\n",
        "c= \"eu\"\n",
        "print(c)\n",
        "c= (a+b)\n",
        "print(c)"
      ],
      "metadata": {
        "colab": {
          "base_uri": "https://localhost:8080/"
        },
        "id": "n0UFC3XC8whU",
        "outputId": "53d26a13-7d5a-48ed-fe82-e94d1221166b"
      },
      "execution_count": null,
      "outputs": [
        {
          "output_type": "stream",
          "name": "stdout",
          "text": [
            "eu\n",
            "manunascimento\n"
          ]
        }
      ]
    },
    {
      "cell_type": "code",
      "source": [
        "a= 2\n",
        "b= 2\n",
        "c= 3\n",
        "\n",
        "print(a==b)\n",
        "print(a==c)"
      ],
      "metadata": {
        "colab": {
          "base_uri": "https://localhost:8080/"
        },
        "id": "GwfVYf8f-MrR",
        "outputId": "b235f23b-09a6-49b3-c50c-24159c5ec349"
      },
      "execution_count": null,
      "outputs": [
        {
          "output_type": "stream",
          "name": "stdout",
          "text": [
            "True\n",
            "False\n"
          ]
        }
      ]
    },
    {
      "cell_type": "code",
      "source": [
        "a= 2\n",
        "b= 2\n",
        "c= 3\n",
        "\n",
        "print(a!=b)\n",
        "print(a==c)"
      ],
      "metadata": {
        "colab": {
          "base_uri": "https://localhost:8080/"
        },
        "id": "l0dayY8e-pmK",
        "outputId": "d8b9ea42-06ec-4367-bbc1-64abe2e3feab"
      },
      "execution_count": null,
      "outputs": [
        {
          "output_type": "stream",
          "name": "stdout",
          "text": [
            "False\n",
            "False\n"
          ]
        }
      ]
    },
    {
      "cell_type": "code",
      "source": [
        "a= 2\n",
        "b= 2\n",
        "c= 3\n",
        "\n",
        "print(a==b)\n",
        "print(a!=c)"
      ],
      "metadata": {
        "colab": {
          "base_uri": "https://localhost:8080/"
        },
        "id": "_tAnaycM_Pui",
        "outputId": "732d4a78-df18-4862-8048-bef70e3b0de0"
      },
      "execution_count": null,
      "outputs": [
        {
          "output_type": "stream",
          "name": "stdout",
          "text": [
            "True\n",
            "True\n"
          ]
        }
      ]
    },
    {
      "cell_type": "code",
      "source": [
        "a= \"2\"\n",
        "b= 2\n",
        "c= 3\n",
        "\n",
        "print(a==b)\n",
        "print(b==c)"
      ],
      "metadata": {
        "colab": {
          "base_uri": "https://localhost:8080/"
        },
        "id": "LCOoAoM5_yF7",
        "outputId": "a126251a-b70a-4533-8ad5-545d1b1ed728"
      },
      "execution_count": null,
      "outputs": [
        {
          "output_type": "stream",
          "name": "stdout",
          "text": [
            "False\n",
            "False\n"
          ]
        }
      ]
    },
    {
      "cell_type": "code",
      "source": [
        "a = int(input('digite o primeiro numero: '))\n",
        "b = int(input('digite o segundo numero: '))\n",
        "c = int(input('digite o terceiro numero: '))\n",
        "\n",
        "if a>c:\n",
        "  print(a==b)\n",
        "\n",
        "else:\n",
        "    print(a==c)"
      ],
      "metadata": {
        "colab": {
          "base_uri": "https://localhost:8080/"
        },
        "id": "UJQldT87AL25",
        "outputId": "af555c73-fc5b-4d48-9d56-7e17c95c3709"
      },
      "execution_count": null,
      "outputs": [
        {
          "output_type": "stream",
          "name": "stdout",
          "text": [
            "digite o primeiro numero: 5\n",
            "digite o segundo numero: 8\n",
            "digite o terceiro numero: 9\n",
            "False\n"
          ]
        }
      ]
    },
    {
      "cell_type": "code",
      "source": [
        "frutas = ['maçã', 'banana', 'laranja', 'uva']\n",
        "for fruta in frutas:\n",
        "\n",
        " print(fruta)"
      ],
      "metadata": {
        "colab": {
          "base_uri": "https://localhost:8080/"
        },
        "id": "LE18OqGyE9f4",
        "outputId": "fd3f5f6d-51e2-4100-f3d9-3eb1f235ed0e"
      },
      "execution_count": null,
      "outputs": [
        {
          "output_type": "stream",
          "name": "stdout",
          "text": [
            "maçã\n",
            "banana\n",
            "laranja\n",
            "uva\n"
          ]
        }
      ]
    },
    {
      "cell_type": "code",
      "source": [
        "nome1 = \"sol \"\n",
        "nome2 = \"tradução em ingles\"\n",
        "nome3 = \" sun\"\n",
        "nome4 = \" o aplicativo que utilizei foi o \"\n",
        "aplicativo = \" duolingo \"\n",
        "nome5 = \" ele completa hoje \"\n",
        "nome6 = \" cinco anos \"\n",
        "\n",
        "mensagem= (nome1+ nome2+ nome3+ nome4+ aplicativo+ nome5+ nome6)\n",
        "print(mensagem)"
      ],
      "metadata": {
        "colab": {
          "base_uri": "https://localhost:8080/"
        },
        "id": "-ZVdKPO1HzZR",
        "outputId": "f2328845-95cd-4da1-e9aa-9f686b1c7e39"
      },
      "execution_count": null,
      "outputs": [
        {
          "output_type": "stream",
          "name": "stdout",
          "text": [
            "sol tradução em ingles sun o aplicativo que utilizei foi o  duolingo  ele completa hoje  cinco anos \n"
          ]
        }
      ]
    },
    {
      "cell_type": "code",
      "source": [
        "a= 40\n",
        "b= 42\n",
        "c= 9\n",
        "if a>c:\n",
        "  print(a+b)\n",
        "\n",
        "else:\n",
        "    print(a-c)"
      ],
      "metadata": {
        "colab": {
          "base_uri": "https://localhost:8080/"
        },
        "id": "PxyEKNOrL4_9",
        "outputId": "8ad4906c-c388-4c50-91fa-2f3d3f877b92"
      },
      "execution_count": null,
      "outputs": [
        {
          "output_type": "stream",
          "name": "stdout",
          "text": [
            "82\n"
          ]
        }
      ]
    },
    {
      "cell_type": "code",
      "source": [
        "nomes =['joao', 'pedro', 'maria', 'lucas']\n",
        "\n",
        "for nome in nomes:\n",
        "\n",
        "\n",
        " print(nome)"
      ],
      "metadata": {
        "colab": {
          "base_uri": "https://localhost:8080/"
        },
        "id": "xfAqRerzN9aK",
        "outputId": "f4487617-7c22-443f-fb17-1428777a0207"
      },
      "execution_count": null,
      "outputs": [
        {
          "output_type": "stream",
          "name": "stdout",
          "text": [
            "joao\n",
            "pedro\n",
            "maria\n",
            "lucas\n"
          ]
        }
      ]
    },
    {
      "cell_type": "code",
      "source": [
        "comida =(\"pizza\")\n",
        "for letra in comida:\n",
        "  if letra == 'z':\n",
        "    print(\"tem a letra!\")\n",
        "  else:\n",
        "      print(\"nao tem a letra!\")"
      ],
      "metadata": {
        "colab": {
          "base_uri": "https://localhost:8080/"
        },
        "id": "P5la7kgQPsUU",
        "outputId": "bd249b07-5755-4fc4-d4d4-b318209eebd0"
      },
      "execution_count": null,
      "outputs": [
        {
          "output_type": "stream",
          "name": "stdout",
          "text": [
            "nao tem a letra!\n",
            "nao tem a letra!\n",
            "tem a letra!\n",
            "tem a letra!\n",
            "nao tem a letra!\n"
          ]
        }
      ]
    },
    {
      "cell_type": "code",
      "source": [],
      "metadata": {
        "id": "VftEY_3ZUcpH"
      },
      "execution_count": null,
      "outputs": []
    }
  ]
}
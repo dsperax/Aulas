{
  "nbformat": 4,
  "nbformat_minor": 0,
  "metadata": {
    "colab": {
      "provenance": []
    },
    "kernelspec": {
      "name": "python3",
      "display_name": "Python 3"
    },
    "language_info": {
      "name": "python"
    }
  },
  "cells": [
    {
      "cell_type": "code",
      "execution_count": 9,
      "metadata": {
        "colab": {
          "base_uri": "https://localhost:8080/"
        },
        "id": "b8l1Xx-WI8et",
        "outputId": "e3fdbcc0-1fa2-4fea-e329-7ca958a17a53"
      },
      "outputs": [
        {
          "output_type": "stream",
          "name": "stdout",
          "text": [
            "bom dia!\n",
            "sua encomenda chegou no correio!\n",
            "Digite o seu telefone: 27999599795\n",
            "A encomenda chegou para o número de telefone correto. Por favor, confira o conteúdo.\n"
          ]
        }
      ],
      "source": [
        "a = \"bom dia!\"\n",
        "b = \"sua encomenda chegou no correio!\"\n",
        "encomenda_e_verdadeira = True\n",
        "print(a)\n",
        "print(b)\n",
        "telefone_esperado = \"27999599795\"\n",
        "telefone_digitado = input(\"Digite o seu telefone: \")\n",
        "if telefone_digitado == telefone_esperado and encomenda_e_verdadeira:\n",
        "\n",
        "  print(\"A encomenda chegou para o número de telefone correto. Por favor, confira o conteúdo.\")\n",
        "else:  print(\"Não foi possível confirmar a chegada da encomenda para o número de telefone fornecido.\")\n",
        "\n",
        ""
      ]
    }
  ]
}
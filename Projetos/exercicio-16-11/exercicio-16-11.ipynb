{
  "nbformat": 4,
  "nbformat_minor": 0,
  "metadata": {
    "colab": {
      "provenance": []
    },
    "kernelspec": {
      "name": "python3",
      "display_name": "Python 3"
    },
    "language_info": {
      "name": "python"
    }
  },
  "cells": [
    {
      "cell_type": "code",
      "execution_count": null,
      "metadata": {
        "id": "RitiBFEDJSLv"
      },
      "outputs": [],
      "source": [
        "a = input(\"Eii, seja Bem-Vindo ao nosso estabelecimento. Gostaria de conhecer os nossos produtos ? \")\n",
        "\n",
        "print(a)\n",
        "\n",
        "lista_cardapio = (\"\\nCardapio: \\n\\U0001F36A Biscoito - Valor: 2.0  \\n\\U00002615 Cafe - Valor: 3.50  \\n\\U0001F35E Pao - Valor: 4.0 \\n\\U0001F369 Rosquinha - Valor: 5.0\")\n",
        "\n",
        "print(lista_cardapio)\n",
        "\n",
        "b = input(\"\\nE ai gostaria de fazer o seu pedido ? \")\n",
        "\n",
        "c = input(\"\\nDigite aqui os seus pedidos: \")\n",
        "\n",
        "mensagem_1 = f\"\\nOkay, o seu pedido esta sendo preparado e sera enviado, aguarde! \\U0001F600\"\n",
        "\n",
        "d = input(\"\\nJa quer fazer o seu pagamento ? \")\n",
        "\n",
        "e = float(input(\"\\nDigite aqui o total a pagar: \"))\n",
        "\n",
        "print(mensagem_1)\n",
        "\n",
        "mensagem_2 = f\"\\nE ai ficou satisfeito com o nosso atendimento ?\"\n",
        "\n",
        "print(mensagem_2)\n",
        "\n",
        "f = input(\"\\nSim \\U0001F604 ou Nao \\U0001F622 ? \")\n",
        "\n",
        "mensagem_3 = f\"\\nOkay, agradecemos a sua preferencia e a sua avaliacao, espero que tenha gostado e volte sempre! \\U00002764\"\n",
        "\n",
        "print(mensagem_3)"
      ]
    }
  ]
}
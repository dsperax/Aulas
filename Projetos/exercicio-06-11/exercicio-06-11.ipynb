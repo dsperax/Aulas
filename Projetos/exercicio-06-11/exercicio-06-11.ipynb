{
  "nbformat": 4,
  "nbformat_minor": 0,
  "metadata": {
    "colab": {
      "provenance": []
    },
    "kernelspec": {
      "name": "python3",
      "display_name": "Python 3"
    },
    "language_info": {
      "name": "python"
    }
  },
  "cells": [
    {
      "cell_type": "code",
      "source": [
        "f = 57\n",
        "\n",
        "print(float(f))"
      ],
      "metadata": {
        "colab": {
          "base_uri": "https://localhost:8080/"
        },
        "id": "2cY_mcBjsgs2",
        "outputId": "81f37869-ca66-4e42-8273-9170f1c67b92"
      },
      "execution_count": 11,
      "outputs": [
        {
          "output_type": "stream",
          "name": "stdout",
          "text": [
            "57.0\n"
          ]
        }
      ]
    },
    {
      "cell_type": "code",
      "source": [
        "a = 50*7\n",
        "\n",
        "print(a)"
      ],
      "metadata": {
        "colab": {
          "base_uri": "https://localhost:8080/"
        },
        "id": "hNzLk3KKs5hc",
        "outputId": "032d23c9-5efd-4e0a-8e55-a29fdc1e1ca6"
      },
      "execution_count": 3,
      "outputs": [
        {
          "output_type": "stream",
          "name": "stdout",
          "text": [
            "350\n"
          ]
        }
      ]
    },
    {
      "cell_type": "code",
      "source": [
        "nome = \"Gabriel\"\n",
        "idade = 5\n",
        "\n",
        "print(nome*idade)"
      ],
      "metadata": {
        "colab": {
          "base_uri": "https://localhost:8080/"
        },
        "id": "_LfNpIXevHOo",
        "outputId": "8c61e23a-8b41-429c-ffd8-f8bc05bb9d04"
      },
      "execution_count": 5,
      "outputs": [
        {
          "output_type": "stream",
          "name": "stdout",
          "text": [
            "GabrielGabrielGabrielGabrielGabriel\n"
          ]
        }
      ]
    },
    {
      "cell_type": "code",
      "source": [
        "numero_string = \"Senha\"\n",
        "numero_int = 7\n",
        "\n",
        "print(numero_string*numero_int)"
      ],
      "metadata": {
        "colab": {
          "base_uri": "https://localhost:8080/"
        },
        "id": "_jb8xkUcvtgx",
        "outputId": "70ea7174-405e-4656-b158-d156e63c0d92"
      },
      "execution_count": 28,
      "outputs": [
        {
          "output_type": "stream",
          "name": "stdout",
          "text": [
            "SenhaSenhaSenhaSenhaSenhaSenhaSenha\n"
          ]
        }
      ]
    },
    {
      "cell_type": "code",
      "source": [
        "numero_int = 5\n",
        "numero_float = 90.2\n",
        "\n",
        "print(numero_int*numero_float)"
      ],
      "metadata": {
        "colab": {
          "base_uri": "https://localhost:8080/"
        },
        "id": "u_I1OqYmwtuf",
        "outputId": "f1aec01d-424b-4dc2-da30-dc645ffee06b"
      },
      "execution_count": 13,
      "outputs": [
        {
          "output_type": "stream",
          "name": "stdout",
          "text": [
            "451.0\n"
          ]
        }
      ]
    },
    {
      "cell_type": "code",
      "source": [
        "nome_string_1 = \"Morango\"\n",
        "nome_string_2 = \" Banana\"\n",
        "\n",
        "concatenada = nome_string_1 + nome_string_2\n",
        "\n",
        "print(concatenada)"
      ],
      "metadata": {
        "colab": {
          "base_uri": "https://localhost:8080/"
        },
        "id": "AMxUrQVG2TT4",
        "outputId": "d1c44c96-d5d4-41f3-f9e1-d5f16ee424f0"
      },
      "execution_count": 39,
      "outputs": [
        {
          "output_type": "stream",
          "name": "stdout",
          "text": [
            "Morango Banana\n"
          ]
        }
      ]
    },
    {
      "cell_type": "code",
      "source": [
        "nome_string_1 = \"Eii\"\n",
        "nome_string_2 = \" como voce esta ?\"\n",
        "\n",
        "concatenada = nome_string_1 + nome_string_2\n",
        "\n",
        "print(concatenada)"
      ],
      "metadata": {
        "colab": {
          "base_uri": "https://localhost:8080/"
        },
        "id": "FcYlj_Ul3g8d",
        "outputId": "74f9d505-a59f-4ab3-9de8-f7711be57bda"
      },
      "execution_count": 33,
      "outputs": [
        {
          "output_type": "stream",
          "name": "stdout",
          "text": [
            "Eii como voce esta ?\n"
          ]
        }
      ]
    },
    {
      "cell_type": "code",
      "source": [
        "nome = \"Gabriel\"\n",
        "idade = 25\n",
        "salario = 500.0\n",
        "\n",
        "mensagem = f\"nome: {nome}, idade: {idade}, salario: {salario}\"\n",
        "\n",
        "print(mensagem)"
      ],
      "metadata": {
        "colab": {
          "base_uri": "https://localhost:8080/"
        },
        "id": "9DQ3NucW5qnm",
        "outputId": "6fc19b9b-3452-4720-bacd-c6756edaf917"
      },
      "execution_count": 27,
      "outputs": [
        {
          "output_type": "stream",
          "name": "stdout",
          "text": [
            "nome: Gabriel, idade: 25, salario: 500.0\n"
          ]
        }
      ]
    },
    {
      "cell_type": "code",
      "source": [
        "preço = 150.50\n",
        "\n",
        "mensagem = f\"O valor do ingresso é {preço}\"\n",
        "\n",
        "print(mensagem)"
      ],
      "metadata": {
        "colab": {
          "base_uri": "https://localhost:8080/"
        },
        "id": "gZhWPby7-ZUn",
        "outputId": "f4158b0e-2934-4511-9fef-704f3127707f"
      },
      "execution_count": 35,
      "outputs": [
        {
          "output_type": "stream",
          "name": "stdout",
          "text": [
            "O valor do ingresso é 150.5\n"
          ]
        }
      ]
    },
    {
      "cell_type": "code",
      "source": [
        "numero_float_1 = 2.0\n",
        "numero_float_2 = 5.5\n",
        "numero_float_3 = 7.0\n",
        "\n",
        "print(numero_float_1 + numero_float_2 * numero_float_3)"
      ],
      "metadata": {
        "colab": {
          "base_uri": "https://localhost:8080/"
        },
        "id": "xA3vvl9mAKT5",
        "outputId": "7ee2e9e3-f276-450e-e1c0-ae0f53f8627a"
      },
      "execution_count": 37,
      "outputs": [
        {
          "output_type": "stream",
          "name": "stdout",
          "text": [
            "40.5\n"
          ]
        }
      ]
    }
  ]
}
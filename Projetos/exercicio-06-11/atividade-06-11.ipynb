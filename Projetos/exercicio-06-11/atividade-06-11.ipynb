{
  "nbformat": 4,
  "nbformat_minor": 0,
  "metadata": {
    "colab": {
      "provenance": [],
      "toc_visible": true
    },
    "kernelspec": {
      "name": "python3",
      "display_name": "Python 3"
    },
    "language_info": {
      "name": "python"
    }
  },
  "cells": [
    {
      "cell_type": "code",
      "source": [
        "a= int(input('Digite o primeiro numero:'))\n",
        "b= int(input('Digite o segundo numero:'))\n"
      ],
      "metadata": {
        "colab": {
          "base_uri": "https://localhost:8080/"
        },
        "id": "eyiPUErVzRfM",
        "outputId": "d91e23ff-ca31-4126-b3ae-1b61ef55cd2f"
      },
      "execution_count": 13,
      "outputs": [
        {
          "name": "stdout",
          "output_type": "stream",
          "text": [
            "Digite o primeiro numero:9\n",
            "Digite o segundo numero:8\n"
          ]
        }
      ]
    },
    {
      "cell_type": "code",
      "source": [
        "from re import I\n",
        "a= float(input('Digite o primeiro numero:'))\n",
        "b= float(input('Digite o segundo numero:'))\n",
        "\n",
        "if a>b:\n",
        "   print(a+b)\n",
        "\n",
        "\n",
        "else:\n",
        "  print(a+b)"
      ],
      "metadata": {
        "colab": {
          "base_uri": "https://localhost:8080/"
        },
        "id": "WhTmxAN5zTnC",
        "outputId": "28eaed48-f42a-4ce9-a198-addb414fb5a4"
      },
      "execution_count": 12,
      "outputs": [
        {
          "output_type": "stream",
          "name": "stdout",
          "text": [
            "Digite o primeiro numero:7.9\n",
            "Digite o segundo numero:8.9\n",
            "16.8\n"
          ]
        }
      ]
    },
    {
      "cell_type": "code",
      "source": [
        "import string\n",
        "a= str(input('Digite o primeiro \"nome\":'))\n",
        "b= str(input('Digite o segundo  \"nome\":'))\n",
        "\n",
        "print(a+b)"
      ],
      "metadata": {
        "colab": {
          "base_uri": "https://localhost:8080/"
        },
        "id": "K4eq6X-mzc9S",
        "outputId": "420f8062-ddaf-4994-e0f2-1171f15ddee1"
      },
      "execution_count": 3,
      "outputs": [
        {
          "output_type": "stream",
          "name": "stdout",
          "text": [
            "Digite o primeiro \"nome\":m\n",
            "Digite o segundo  \"nome\":u\n",
            "mu\n"
          ]
        }
      ]
    },
    {
      "cell_type": "code",
      "source": [
        "a= str(input('Digite o primeiro \"nome\":'))\n",
        "b= float(input('Digite o primeiro numero:'))\n"
      ],
      "metadata": {
        "colab": {
          "base_uri": "https://localhost:8080/"
        },
        "id": "ng8gVG1w00Gk",
        "outputId": "af8762f8-8a5a-4964-d446-14293a073f40"
      },
      "execution_count": 14,
      "outputs": [
        {
          "name": "stdout",
          "output_type": "stream",
          "text": [
            "Digite o primeiro \"nome\":manu\n",
            "Digite o primeiro numero:7.8\n"
          ]
        }
      ]
    },
    {
      "cell_type": "code",
      "source": [
        "nome1 = \"manu\"\n",
        "nome2 = \"fevereiro\"\n",
        "idade = 19\n",
        "mensagem = f\"nome1:{nome1}, nome2:{nome2}, idade:{idade}\"\n",
        "print(mensagem)"
      ],
      "metadata": {
        "colab": {
          "base_uri": "https://localhost:8080/"
        },
        "id": "Tlrk09Je4B_H",
        "outputId": "3cf3fd99-6af8-411a-829c-e9c325b0b7ba"
      },
      "execution_count": 35,
      "outputs": [
        {
          "output_type": "stream",
          "name": "stdout",
          "text": [
            "nome1:manu, nome2:fevereiro, idade:19\n"
          ]
        }
      ]
    },
    {
      "cell_type": "code",
      "source": [
        "nome1 = \"sol\"\n",
        "nome2 = \"tradução em ingles\"\n",
        "nome3 = \"sun\"\n",
        "nome4 = \"o aplicativo que utilizei foi o\"\n",
        "aplicativo = \"duolingo\"\n",
        "nome5 = \"ele completa hoje\"\n",
        "anos = 3.5\n",
        "nome6 = \"anos\"\n",
        "mensagem = f\""
      ],
      "metadata": {
        "id": "Iqn-khX0ESdH"
      },
      "execution_count": 40,
      "outputs": []
    }
  ]
}
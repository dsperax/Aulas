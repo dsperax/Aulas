{
  "nbformat": 4,
  "nbformat_minor": 0,
  "metadata": {
    "colab": {
      "provenance": [],
      "authorship_tag": "ABX9TyNbXGTCZ7reoeSyzD+L0Z85",
      "include_colab_link": true
    },
    "kernelspec": {
      "name": "python3",
      "display_name": "Python 3"
    },
    "language_info": {
      "name": "python"
    }
  },
  "cells": [
    {
      "cell_type": "markdown",
      "metadata": {
        "id": "view-in-github",
        "colab_type": "text"
      },
      "source": [
        "<a href=\"https://colab.research.google.com/github/dsperax/Aulas/blob/main/Untitled1.ipynb\" target=\"_parent\"><img src=\"https://colab.research.google.com/assets/colab-badge.svg\" alt=\"Open In Colab\"/></a>"
      ]
    },
    {
      "cell_type": "code",
      "execution_count": 8,
      "metadata": {
        "colab": {
          "base_uri": "https://localhost:8080/"
        },
        "id": "EGRB3Ivg01Mh",
        "outputId": "94e177fb-14ca-4d12-bdfd-af2c222c7d92"
      },
      "outputs": [
        {
          "output_type": "stream",
          "name": "stdout",
          "text": [
            "digite o primeiro numero:8\n",
            "digite o segundo numero:4\n",
            "4\n"
          ]
        }
      ],
      "source": [
        "a = int(input('digite o primeiro numero:'))\n",
        "b = int(input('digite o segundo numero:'))\n",
        "\n",
        "if a<b:\n",
        "  print(a+b)\n",
        "\n",
        "else:\n",
        "  print(a-b)\n",
        "\n",
        "\n",
        "\n",
        "\n",
        "\n",
        "\n",
        "\n",
        ""
      ]
    },
    {
      "cell_type": "code",
      "source": [
        "\n",
        "\n",
        "\n"
      ],
      "metadata": {
        "id": "TyPEls2MDL91"
      },
      "execution_count": 25,
      "outputs": []
    }
  ]
}
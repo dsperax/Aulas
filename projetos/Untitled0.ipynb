{
  "nbformat": 4,
  "nbformat_minor": 0,
  "metadata": {
    "colab": {
      "provenance": [],
      "authorship_tag": "ABX9TyOAtBOY5zmLLyzeQlPKhcdL",
      "include_colab_link": true
    },
    "kernelspec": {
      "name": "python3",
      "display_name": "Python 3"
    },
    "language_info": {
      "name": "python"
    }
  },
  "cells": [
    {
      "cell_type": "markdown",
      "metadata": {
        "id": "view-in-github",
        "colab_type": "text"
      },
      "source": [
        "<a href=\"https://colab.research.google.com/github/dsperax/Aulas/blob/main/Untitled0.ipynb\" target=\"_parent\"><img src=\"https://colab.research.google.com/assets/colab-badge.svg\" alt=\"Open In Colab\"/></a>"
      ]
    },
    {
      "cell_type": "code",
      "execution_count": 4,
      "metadata": {
        "colab": {
          "base_uri": "https://localhost:8080/"
        },
        "id": "ZvACIbgvDNWB",
        "outputId": "5c912a6f-9c43-49be-e60f-3e4e7355ddf8"
      },
      "outputs": [
        {
          "output_type": "stream",
          "name": "stdout",
          "text": [
            "Apresenta um programa \n",
            "digite o 1° numero:66\n",
            "digite o 2° numero:55\n",
            "sua saida e´:\n",
            "7986\n"
          ]
        }
      ],
      "source": [
        "print (\"Apresenta um programa \" )\n",
        "num_1= int(input(\"digite o 1° numero:\"))\n",
        "num_2= int(input(\"digite o 2° numero:\"))\n",
        "\n",
        "saida =((num_1*num_2) + (num_1*num_1))# + -* /()\n",
        "\n",
        "print(\"sua saida e´:\")\n",
        "print(saida)"
      ]
    },
    {
      "cell_type": "code",
      "source": [],
      "metadata": {
        "id": "VF-T1r6biOoR"
      },
      "execution_count": null,
      "outputs": []
    }
  ]
}
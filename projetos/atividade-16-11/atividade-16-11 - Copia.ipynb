{
  "nbformat": 4,
  "nbformat_minor": 0,
  "metadata": {
    "colab": {
      "provenance": []
    },
    "kernelspec": {
      "name": "python3",
      "display_name": "Python 3"
    },
    "language_info": {
      "name": "python"
    }
  },
  "cells": [
    {
      "cell_type": "code",
      "execution_count": 8,
      "metadata": {
        "colab": {
          "base_uri": "https://localhost:8080/"
        },
        "id": "6AJAXALyP8MY",
        "outputId": "6ab95a7f-df76-4522-f388-c00060cfd410"
      },
      "outputs": [
        {
          "output_type": "stream",
          "name": "stdout",
          "text": [
            "historico:\n",
            "Digite seu nome: thaís\n",
            "Nome: thaís\n",
            "Digite sua idade: 20\n",
            "Idade: 20\n",
            "Digite seu e-mail: thaíslalaila@gmail.com\n",
            "E-mail: thaíslalaila@gmail.com\n"
          ]
        }
      ],
      "source": [
        "print(\"historico:\")\n",
        "nome = input(\"Digite seu nome: \")\n",
        "print(\"Nome:\", nome)\n",
        "idade = int(input(\"Digite sua idade: \"))\n",
        "print(\"Idade:\", idade)\n",
        "email = input(\"Digite seu e-mail: \")\n",
        "print(\"E-mail:\", email)"
      ]
    },
    {
      "cell_type": "code",
      "source": [
        "a = \"Boa noite, juju\"\n",
        "b =\"endereço não encotrado!\"\n",
        "print(a)\n",
        "print(b)\n",
        "\n",
        "endereço = \"89643-678\"\n",
        "if endereço == endereço_falso:\n",
        "    print(\"Endereço:\", endereço)\n",
        "else:\n",
        "    print(\"Endereço não encontrado:\", endereço)\n",
        "\n",
        "\n"
      ],
      "metadata": {
        "colab": {
          "base_uri": "https://localhost:8080/"
        },
        "id": "Ij_ibbr_XN-l",
        "outputId": "3b925921-5d37-4221-a12c-adf89bc98f98"
      },
      "execution_count": 44,
      "outputs": [
        {
          "output_type": "stream",
          "name": "stdout",
          "text": [
            "Boa noite, juju\n",
            "endereço não encotrado!\n",
            "Endereço: 89643-678\n"
          ]
        }
      ]
    },
    {
      "cell_type": "code",
      "source": [
        "a = \"Bom dia, manu\"\n",
        "endereco_verdadeiro = True\n",
        "print(a)\n",
        "cep_esperado = \"89643-678\"\n",
        "cep_digitado = input(\"digite o seu cep:\")\n",
        "\n",
        "if cep_digitado == cep_esperado\n",
        " and endereco_verdadeiro:\n",
        "    print(\"cep_digitado:\", cep_digitado)\n",
        "else:\n",
        "    print(\"Endereço não encontrado:\", endereço)"
      ],
      "metadata": {
        "colab": {
          "base_uri": "https://localhost:8080/"
        },
        "id": "9UGr-7T2jLme",
        "outputId": "a0fc546c-95c8-4d04-b330-915cf38c9b4d"
      },
      "execution_count": 54,
      "outputs": [
        {
          "output_type": "stream",
          "name": "stdout",
          "text": [
            "Bom dia, manu\n",
            "digite o seu cep:89643-678\n",
            "cep_digitado: 89643-678\n"
          ]
        }
      ]
    }
  ]
}
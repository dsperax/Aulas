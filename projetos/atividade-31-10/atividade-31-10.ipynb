{
  "nbformat": 4,
  "nbformat_minor": 0,
  "metadata": {
    "colab": {
      "provenance": []
    },
    "kernelspec": {
      "name": "python3",
      "display_name": "Python 3"
    },
    "language_info": {
      "name": "python"
    }
  },
  "cells": [
    {
      "cell_type": "code",
      "execution_count": 1,
      "metadata": {
        "colab": {
          "base_uri": "https://localhost:8080/"
        },
        "id": "wjXCDeya_1As",
        "outputId": "bc88bfaf-a23d-4e19-a26c-08125fcb911c"
      },
      "outputs": [
        {
          "output_type": "stream",
          "name": "stdout",
          "text": [
            "Entre 1ist number:5054\n",
            "Entre 2nd number:745746\n",
            "-740692\n"
          ]
        }
      ],
      "source": [
        "a= int(input('Entre 1ist number:'))\n",
        "b=int(input('Entre 2nd number:'))\n",
        "\n",
        "if a>b:\n",
        "  print(a+b)\n",
        "\n",
        "else:\n",
        "  print(a-b)\n",
        ""
      ]
    },
    {
      "cell_type": "code",
      "source": [
        "a= int(input('Entre 1ist number:'))\n",
        "b=int(input('Entre 2nd number:'))\n",
        "\n",
        "if a>b:\n",
        "  print(a+b)\n",
        "\n",
        "else:\n",
        "  print(a*b)"
      ],
      "metadata": {
        "colab": {
          "base_uri": "https://localhost:8080/"
        },
        "id": "ugidJUiB_8l_",
        "outputId": "0654d3da-2679-4989-810e-4d8ecd7cac75"
      },
      "execution_count": 2,
      "outputs": [
        {
          "output_type": "stream",
          "name": "stdout",
          "text": [
            "Entre 1ist number:740692\n",
            "Entre 2nd number:898999\n",
            "-158307\n"
          ]
        }
      ]
    },
    {
      "cell_type": "code",
      "source": [
        "a= int(input('Entre 1ist number:'))\n",
        "b=int(input('Entre 2nd number:'))\n",
        "\n",
        "if a>b:\n",
        "  print(a*b)\n",
        "\n",
        "elif a>b:\n",
        "  print('deu igual')\n",
        "else:\n",
        "  print(a+b)"
      ],
      "metadata": {
        "colab": {
          "base_uri": "https://localhost:8080/"
        },
        "id": "OEGnEA9eAOzm",
        "outputId": "2722e317-5856-4477-e37b-d33601d22240"
      },
      "execution_count": 20,
      "outputs": [
        {
          "output_type": "stream",
          "name": "stdout",
          "text": [
            "Entre 1ist number:8789\n",
            "Entre 2nd number:9753\n",
            "18542\n"
          ]
        }
      ]
    }
  ]
}
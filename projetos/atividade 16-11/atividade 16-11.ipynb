{
  "nbformat": 4,
  "nbformat_minor": 0,
  "metadata": {
    "colab": {
      "provenance": []
    },
    "kernelspec": {
      "name": "python3",
      "display_name": "Python 3"
    },
    "language_info": {
      "name": "python"
    }
  },
  "cells": [
    {
      "cell_type": "code",
      "source": [
        "a = (\"Olá, aqui iremos calcular o tanto de calorias que você está gastando de acordo com suas atividades fisicas 💪!\")\n",
        "b = (\"\\nEscolha dentre essas opções disponiveis:\")\n",
        "c = (\"\\nCaminhada \\U0001F6B6, Corrida \\U0001F3C3, Bicicleta \\U0001F6B4, Natacao\\U0001F3CA, Futebol \\U000026BD, Dança \\U0001F483, Musculação \\U0001F4AA, Yoga \\U0001F9D8, Volei \\U0001F3D0, Tênis \\U0001F3BE\")\n",
        "print(a,b,c)\n",
        "\n",
        "def calcular_calorias(atividade, tempo):\n",
        "    taxas_metabolicas = {\n",
        "        'caminhada' : 5,\n",
        "        'corrida' : 10,\n",
        "        'bicicleta': 8,\n",
        "        'natacao': 7,\n",
        "        'futebol': 10,\n",
        "        'danca': 7,\n",
        "        'musculacao': 6,\n",
        "        'yoga': 5,\n",
        "        'volei': 5,\n",
        "        'tenis': 6,\n",
        "\n",
        "    }\n",
        "\n",
        "    if atividade.lower() in taxas_metabolicas:\n",
        "        taxa = taxas_metabolicas[atividade.lower()]\n",
        "        calorias = taxa * tempo\n",
        "        return calorias\n",
        "    else:\n",
        "        return \"Atividade não encontrada na lista.\"\n",
        "\n",
        "atividade_escolhida = input(\"\\n\\nQual atividade física realizada: \")\n",
        "tempo_atividade = float(input(\"\\n\\nQuanto tempo você realizou a atividade? (em minutos): \"))\n",
        "\n",
        "calorias_queimadas = calcular_calorias(atividade_escolhida, tempo_atividade)\n",
        "print(f\"\\nVocê queimou aproximadamente {calorias_queimadas} calorias durante a {atividade_escolhida} de {tempo_atividade} minutos \\U0001F604.\")"
      ],
      "metadata": {
        "colab": {
          "base_uri": "https://localhost:8080/"
        },
        "id": "HoHuV02pWhsm",
        "outputId": "afc1af60-9ffe-4674-9847-de23f86d6f41"
      },
      "execution_count": null,
      "outputs": [
        {
          "output_type": "stream",
          "name": "stdout",
          "text": [
            "Olá, aqui iremos calcular o tanto de calorias que você está gastando de acordo com suas atividades fisicas 💪! \n",
            "Escolha dentre essas opções disponiveis: \n",
            "Caminhada 🚶, Corrida 🏃, Bicicleta 🚴, Natacao🏊, Futebol ⚽, Dança 💃, Musculação 💪, Yoga 🧘, Volei 🏐, Tênis 🎾\n"
          ]
        }
      ]
    }
  ]
}
{
  "nbformat": 4,
  "nbformat_minor": 0,
  "metadata": {
    "colab": {
      "provenance": []
    },
    "kernelspec": {
      "name": "python3",
      "display_name": "Python 3"
    },
    "language_info": {
      "name": "python"
    }
  },
  "cells": [
    {
      "cell_type": "code",
      "execution_count": 8,
      "metadata": {
        "colab": {
          "base_uri": "https://localhost:8080/"
        },
        "id": "PC8UFHk10Wic",
        "outputId": "89e5dcac-d6ab-4bb8-a39d-e29fd1210f32"
      },
      "outputs": [
        {
          "output_type": "stream",
          "name": "stdout",
          "text": [
            "Digite uma letra: a\n",
            "Digite uma letra: g\n",
            "Digite uma letra: u\n",
            "Digite uma letra: m\n",
            "a é uma vogal.\n",
            "g é uma consoante.\n",
            "u é uma vogal.\n",
            "m é uma consoante.\n"
          ]
        }
      ],
      "source": [
        "a = input(\"Digite uma letra: \")\n",
        "b = input(\"Digite uma letra: \")\n",
        "c = input(\"Digite uma letra: \")\n",
        "d = input(\"Digite uma letra: \")\n",
        "\n",
        "letras = (a, b, c, d)\n",
        "\n",
        "for caractere in letras:\n",
        " if caractere in 'aeiouAEIOU':\n",
        "    print(f\"{caractere} é uma vogal.\")\n",
        " else:\n",
        "    print(f\"{caractere} é uma consoante.\")"
      ]
    },
    {
      "cell_type": "code",
      "source": [
        "numeros = [5, 9, 2, 17, 44, 26, 17]\n",
        "numeros_ordenados = sorted(numeros)\n",
        "\n",
        "for numero in numeros:\n",
        " if numero % 2 == 0:\n",
        "  print(f\"{numero} é par.\")\n",
        "else:\n",
        "  print(f\"{numero} não é ímpar\")\n",
        "\n",
        "\n"
      ],
      "metadata": {
        "colab": {
          "base_uri": "https://localhost:8080/"
        },
        "id": "15rwYDmS2NoJ",
        "outputId": "d83e664e-afc8-47ef-8beb-98fa05750b3b"
      },
      "execution_count": 20,
      "outputs": [
        {
          "output_type": "stream",
          "name": "stdout",
          "text": [
            "2 é par.\n",
            "44 é par.\n",
            "26 é par.\n",
            "17 não é ímpar\n"
          ]
        }
      ]
    },
    {
      "cell_type": "code",
      "source": [
        "nomes = [\"Pedro\", \"Adriana\", \"Geovana\", \"Carlos\", \"Miguel\", \"Joao\"]\n",
        "\n",
        "nome_procurado = \"Adriana\"\n",
        "\n",
        "encontrado = True\n",
        "for nome in nomes:\n",
        "  if nome == nome_procurado:\n",
        "    encontrado = False\n",
        "    break\n",
        "\n",
        "  if encontrado:\n",
        "    print(f\"{nome_procurado} foi encontrado na lista de nomes.\")\n",
        "  else:\n",
        "    print(f\"{nome_procurado} não foi encontrado na lista de nomes.\")"
      ],
      "metadata": {
        "colab": {
          "base_uri": "https://localhost:8080/"
        },
        "id": "bk-p5u_m4yX7",
        "outputId": "b6b66fa4-4307-4381-8910-b01a0bdfe3e0"
      },
      "execution_count": 31,
      "outputs": [
        {
          "output_type": "stream",
          "name": "stdout",
          "text": [
            "Adriana foi encontrado na lista de nomes.\n"
          ]
        }
      ]
    },
    {
      "cell_type": "code",
      "source": [
        "minha_lista = [5, -1, 4, 2, -3, -6, 7, -2]\n",
        "minha_lista_ordenada_decrescente = sorted(minha_lista, reverse=True)\n",
        "\n",
        "for numero in minha_lista_ordenada_decrescente:\n",
        " if numero >= 0:\n",
        "   print(f\"O valor {numero} é verdadeiro.\")\n",
        " else:\n",
        "   print(f\"O valor {numero} é falso.\")\n",
        "\n"
      ],
      "metadata": {
        "colab": {
          "base_uri": "https://localhost:8080/"
        },
        "id": "i4aRBrEr_YHL",
        "outputId": "943bcc87-4369-4498-95e5-ec6af5f8e22a"
      },
      "execution_count": 66,
      "outputs": [
        {
          "output_type": "stream",
          "name": "stdout",
          "text": [
            "O valor 7 é verdadeiro.\n",
            "O valor 5 é verdadeiro.\n",
            "O valor 4 é verdadeiro.\n",
            "O valor 2 é verdadeiro.\n",
            "O valor -1 é falso.\n",
            "O valor -2 é falso.\n",
            "O valor -3 é falso.\n",
            "O valor -6 é falso.\n"
          ]
        }
      ]
    }
  ]
}
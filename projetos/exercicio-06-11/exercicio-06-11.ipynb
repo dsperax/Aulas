{
  "nbformat": 4,
  "nbformat_minor": 0,
  "metadata": {
    "colab": {
      "provenance": []
    },
    "kernelspec": {
      "name": "python3",
      "display_name": "Python 3"
    },
    "language_info": {
      "name": "python"
    }
  },
  "cells": [
    {
      "cell_type": "code",
      "execution_count": 7,
      "metadata": {
        "colab": {
          "base_uri": "https://localhost:8080/"
        },
        "id": "4M0AUDb1nV7F",
        "outputId": "c682334f-c224-4455-f8f2-93b8eed9c087"
      },
      "outputs": [
        {
          "output_type": "stream",
          "name": "stdout",
          "text": [
            "botafogo vai ganhar!\n",
            "botafogo \n",
            "vai \n",
            "ganhar!\n"
          ]
        }
      ],
      "source": [
        "string1 = \"botafogo \"\n",
        "string2 = \"vai \"\n",
        "string3 = \"ganhar!\"\n",
        "concatenada = string1 + string2 + string3\n",
        "print(concatenada)\n",
        "print(string1)\n",
        "print(string2)\n",
        "print(string3)\n"
      ]
    },
    {
      "cell_type": "code",
      "source": [
        "float1 = 80.4\n",
        "float2 = 20.2\n",
        "float3 = 13.8\n",
        "float1 / float2 + float3\n",
        "print(float3)"
      ],
      "metadata": {
        "colab": {
          "base_uri": "https://localhost:8080/"
        },
        "id": "IrwMSl_31SBm",
        "outputId": "aec8c1f7-4449-431b-f160-bae14ec85ede"
      },
      "execution_count": 8,
      "outputs": [
        {
          "output_type": "stream",
          "name": "stdout",
          "text": [
            "13.8\n"
          ]
        }
      ]
    },
    {
      "cell_type": "code",
      "source": [
        "string1 = \"botafogo \"\n",
        "string2 = \"botafogo \"\n",
        "string3 = \"campeão \"\n",
        "string4 = \"desde \"\n",
        "int1 = \"1910\"\n",
        "string1 + string2 + string3 + string4 + int1"
      ],
      "metadata": {
        "colab": {
          "base_uri": "https://localhost:8080/",
          "height": 35
        },
        "id": "pR6DSY-j2MJ3",
        "outputId": "d930784e-3b80-461e-dfd6-11c5188d2eeb"
      },
      "execution_count": 6,
      "outputs": [
        {
          "output_type": "execute_result",
          "data": {
            "text/plain": [
              "'botafogo botafogo campeão desde 1910'"
            ],
            "application/vnd.google.colaboratory.intrinsic+json": {
              "type": "string"
            }
          },
          "metadata": {},
          "execution_count": 6
        }
      ]
    },
    {
      "cell_type": "code",
      "source": [
        "string1 = \"samile \"\n",
        "string2 = \"ama \"\n",
        "string3 = \"o \"\n",
        "string4 = \"eduardo \"\n",
        "string5 = \"33\"\n",
        "string1 + string2 + string3 + string4 + string5\n"
      ],
      "metadata": {
        "colab": {
          "base_uri": "https://localhost:8080/",
          "height": 35
        },
        "id": "qeLSKv4w42cG",
        "outputId": "9a636b5c-29cc-4a19-a0c7-a05110c654c3"
      },
      "execution_count": 13,
      "outputs": [
        {
          "output_type": "execute_result",
          "data": {
            "text/plain": [
              "'samile ama o eduardo 33'"
            ],
            "application/vnd.google.colaboratory.intrinsic+json": {
              "type": "string"
            }
          },
          "metadata": {},
          "execution_count": 13
        }
      ]
    },
    {
      "cell_type": "code",
      "source": [
        "float1 = 2.9\n",
        "float2 = 2.6\n",
        "float3 = 9.8\n",
        "float4 = 1.3\n",
        "float1 * float2 + float3 - float4\n"
      ],
      "metadata": {
        "colab": {
          "base_uri": "https://localhost:8080/"
        },
        "id": "GAWXSWlw96xL",
        "outputId": "31aa1eb1-da18-479d-aa66-f3b38db34d66"
      },
      "execution_count": 14,
      "outputs": [
        {
          "output_type": "execute_result",
          "data": {
            "text/plain": [
              "16.04"
            ]
          },
          "metadata": {},
          "execution_count": 14
        }
      ]
    },
    {
      "cell_type": "code",
      "source": [
        "float1 = 6.7\n",
        "int1 = 10\n",
        "float1 * int1"
      ],
      "metadata": {
        "colab": {
          "base_uri": "https://localhost:8080/"
        },
        "id": "j9L7y1VD_RXK",
        "outputId": "f52cee02-00c7-4bcd-c09e-b29cc1c5c1b6"
      },
      "execution_count": 15,
      "outputs": [
        {
          "output_type": "execute_result",
          "data": {
            "text/plain": [
              "67.0"
            ]
          },
          "metadata": {},
          "execution_count": 15
        }
      ]
    },
    {
      "cell_type": "code",
      "source": [
        "int1 = 6\n",
        "int2 = 9\n",
        "int3 = 7\n",
        "int1 * int2 + int3 + int1"
      ],
      "metadata": {
        "colab": {
          "base_uri": "https://localhost:8080/"
        },
        "id": "vU7K_pTq_i1Z",
        "outputId": "d670d81e-53cc-415c-fea8-94a4b50da7e7"
      },
      "execution_count": 16,
      "outputs": [
        {
          "output_type": "execute_result",
          "data": {
            "text/plain": [
              "67"
            ]
          },
          "metadata": {},
          "execution_count": 16
        }
      ]
    },
    {
      "cell_type": "code",
      "source": [
        "float1 = 4.6\n",
        "float2 = 7.2\n",
        "string1 = \"resulta\"\n",
        "\n",
        "resultado = float1 * float2\n",
        "resultado_str = str(resultado)\n",
        "resultado_final = resultado_str + string1\n",
        "\n",
        "print(resultado_final)\n",
        "print(resultado)\n"
      ],
      "metadata": {
        "colab": {
          "base_uri": "https://localhost:8080/"
        },
        "id": "Mslj7UU0Glle",
        "outputId": "bd1c6cf3-b709-45d5-d3c3-6beab7639364"
      },
      "execution_count": 23,
      "outputs": [
        {
          "output_type": "stream",
          "name": "stdout",
          "text": [
            "33.12resulta\n",
            "33.12\n"
          ]
        }
      ]
    },
    {
      "cell_type": "code",
      "source": [],
      "metadata": {
        "id": "Aqfygbj4HHdU"
      },
      "execution_count": null,
      "outputs": []
    }
  ]
}
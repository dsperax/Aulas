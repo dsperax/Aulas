{
  "nbformat": 4,
  "nbformat_minor": 0,
  "metadata": {
    "colab": {
      "provenance": []
    },
    "kernelspec": {
      "name": "python3",
      "display_name": "Python 3"
    },
    "language_info": {
      "name": "python"
    }
  },
  "cells": [
    {
      "cell_type": "code",
      "source": [
        "string1 = \"7\"\n",
        "string2 = \"10\"\n",
        "string1 + string2"
      ],
      "metadata": {
        "colab": {
          "base_uri": "https://localhost:8080/",
          "height": 36
        },
        "id": "EKIDr9UY6bzh",
        "outputId": "ba4c728f-fee4-4a2d-92c8-b18233ebb97a"
      },
      "execution_count": 8,
      "outputs": [
        {
          "output_type": "execute_result",
          "data": {
            "text/plain": [
              "'710'"
            ],
            "application/vnd.google.colaboratory.intrinsic+json": {
              "type": "string"
            }
          },
          "metadata": {},
          "execution_count": 8
        }
      ]
    },
    {
      "cell_type": "code",
      "source": [
        "int1 = \"9\"\n",
        "int2 = \"300\"\n",
        "int1 + int2"
      ],
      "metadata": {
        "colab": {
          "base_uri": "https://localhost:8080/",
          "height": 36
        },
        "id": "A6JMnGey64ZJ",
        "outputId": "c189a2d7-4e73-40d9-a8d0-a1c446a47c51"
      },
      "execution_count": 10,
      "outputs": [
        {
          "output_type": "execute_result",
          "data": {
            "text/plain": [
              "'9300'"
            ],
            "application/vnd.google.colaboratory.intrinsic+json": {
              "type": "string"
            }
          },
          "metadata": {},
          "execution_count": 10
        }
      ]
    },
    {
      "cell_type": "code",
      "source": [
        "float1 = \"30\"\n",
        "float2 = \"50\"\n",
        "float1 + float2"
      ],
      "metadata": {
        "colab": {
          "base_uri": "https://localhost:8080/",
          "height": 36
        },
        "id": "viBBidW77UXe",
        "outputId": "a88d270b-8fb2-4c8b-8634-b6ad89de70a8"
      },
      "execution_count": 11,
      "outputs": [
        {
          "output_type": "execute_result",
          "data": {
            "text/plain": [
              "'3050'"
            ],
            "application/vnd.google.colaboratory.intrinsic+json": {
              "type": "string"
            }
          },
          "metadata": {},
          "execution_count": 11
        }
      ]
    },
    {
      "cell_type": "code",
      "source": [
        "string1 = \" Dani\"\n",
        "string2 = \"rebeca\"\n",
        "string1 + string2"
      ],
      "metadata": {
        "colab": {
          "base_uri": "https://localhost:8080/",
          "height": 36
        },
        "id": "908x4k4n7q8_",
        "outputId": "c6d3e14c-9999-4e07-bf29-c7b4d8d67eec"
      },
      "execution_count": 12,
      "outputs": [
        {
          "output_type": "execute_result",
          "data": {
            "text/plain": [
              "' Danirebeca'"
            ],
            "application/vnd.google.colaboratory.intrinsic+json": {
              "type": "string"
            }
          },
          "metadata": {},
          "execution_count": 12
        }
      ]
    },
    {
      "cell_type": "code",
      "source": [
        "string1 = \"dani\"\n",
        "float1 = 1.5\n",
        "int1 = 40\n",
        "\n",
        "result = string1 + str(float1) + str(int1)\n",
        "print(result)"
      ],
      "metadata": {
        "colab": {
          "base_uri": "https://localhost:8080/"
        },
        "id": "mTrlaMpV8Vut",
        "outputId": "c303e075-aa15-4592-c702-3453a5fb651e"
      },
      "execution_count": 23,
      "outputs": [
        {
          "output_type": "stream",
          "name": "stdout",
          "text": [
            "dani1.540\n"
          ]
        }
      ]
    },
    {
      "cell_type": "code",
      "source": [
        "string1 = \"dani\"\n",
        "float1 = 1.2\n",
        "int1 = 70\n",
        "\n",
        "mensagem = f\"{string1} {float1} {int1} \"\n",
        "print(mensagem)"
      ],
      "metadata": {
        "colab": {
          "base_uri": "https://localhost:8080/"
        },
        "id": "GrqSiR9o_TfU",
        "outputId": "4532fe78-d7c8-400b-a762-a659cffea54c"
      },
      "execution_count": 29,
      "outputs": [
        {
          "output_type": "stream",
          "name": "stdout",
          "text": [
            "dani 1.2 70 \n"
          ]
        }
      ]
    },
    {
      "cell_type": "code",
      "source": [
        "string1 = \"manu foi ao supermercado e comprou \"\n",
        "float1 = 0.5\n",
        "string2 = \"laranja\"\n",
        "\n",
        "mensagem = f\"{string1} {float1} {string2} \"\n",
        "print(mensagem)"
      ],
      "metadata": {
        "colab": {
          "base_uri": "https://localhost:8080/"
        },
        "id": "x_U95sscBkso",
        "outputId": "e1ea8454-6ac7-445e-8dfe-a2b7a6b4ac5d"
      },
      "execution_count": 31,
      "outputs": [
        {
          "output_type": "stream",
          "name": "stdout",
          "text": [
            "manu foi ao supermercado e comprou  0.5 laranja \n"
          ]
        }
      ]
    },
    {
      "cell_type": "code",
      "source": [
        "float1 = 5*4\n",
        "float2 = 107/30\n",
        "mensagem = f\"{float1} {float2}\"\n",
        "print (mensagem)"
      ],
      "metadata": {
        "colab": {
          "base_uri": "https://localhost:8080/"
        },
        "id": "5EVV_2qxDrdO",
        "outputId": "93d21a74-a59a-41f0-f62e-43ea4b1f80f4"
      },
      "execution_count": 37,
      "outputs": [
        {
          "output_type": "stream",
          "name": "stdout",
          "text": [
            "20 3.566666666666667\n"
          ]
        }
      ]
    },
    {
      "cell_type": "code",
      "source": [
        "string1 = \"XRE\"\n",
        "int2 = 300\n",
        "float3 = 25.00000\n",
        "mensagem = f\"{string1} {int2} {float3}\"\n",
        "print (mensagem)"
      ],
      "metadata": {
        "colab": {
          "base_uri": "https://localhost:8080/"
        },
        "id": "5v_grr51GY8U",
        "outputId": "e293ba6e-ead1-43e5-e512-f2040159fbe1"
      },
      "execution_count": 38,
      "outputs": [
        {
          "output_type": "stream",
          "name": "stdout",
          "text": [
            "XRE 300 25.0\n"
          ]
        }
      ]
    }
  ]
}
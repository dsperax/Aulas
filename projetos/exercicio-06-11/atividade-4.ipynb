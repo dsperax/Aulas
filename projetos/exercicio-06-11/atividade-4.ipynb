{
  "nbformat": 4,
  "nbformat_minor": 0,
  "metadata": {
    "colab": {
      "provenance": []
    },
    "kernelspec": {
      "name": "python3",
      "display_name": "Python 3"
    },
    "language_info": {
      "name": "python"
    }
  },
  "cells": [
    {
      "cell_type": "code",
      "execution_count": 1,
      "metadata": {
        "colab": {
          "base_uri": "https://localhost:8080/"
        },
        "id": "T32R1PLZ1j7w",
        "outputId": "e6a40512-781c-4f22-cb93-c5a0d2053095"
      },
      "outputs": [
        {
          "output_type": "stream",
          "name": "stdout",
          "text": [
            "Olá, mundo!\n"
          ]
        }
      ],
      "source": [
        "string1 = \"Olá, \"\n",
        "string2 = \"mundo!\"\n",
        "concatenada = string1 + string2\n",
        "print(concatenada)\n"
      ]
    },
    {
      "cell_type": "code",
      "source": [
        "string1 = \"Oi\"\n",
        "string2 =  \" pessoas\"\n",
        "string3 =  \" como estão?\"\n",
        "concatenada = string1 + string2 + string3\n",
        "print(concatenada)"
      ],
      "metadata": {
        "colab": {
          "base_uri": "https://localhost:8080/"
        },
        "id": "f4c9D8Hw1tBl",
        "outputId": "a83fc4a3-4923-40ab-daf1-5b1453cb3fa9"
      },
      "execution_count": 4,
      "outputs": [
        {
          "output_type": "stream",
          "name": "stdout",
          "text": [
            "Oi pessoas como estão?\n"
          ]
        }
      ]
    },
    {
      "cell_type": "code",
      "source": [
        "idade = 30\n",
        "nome= \"Lucas\"\n",
        "salario = 100.50\n",
        "mensagem = f\"idade: {idade}, nome: {nome}, salario: {salario}\"\n",
        "print(mensagem)"
      ],
      "metadata": {
        "colab": {
          "base_uri": "https://localhost:8080/"
        },
        "id": "17ToH1bc2z4z",
        "outputId": "8c9df978-275b-4df7-b09a-8635b6116f7a"
      },
      "execution_count": 14,
      "outputs": [
        {
          "output_type": "stream",
          "name": "stdout",
          "text": [
            "idade: 30, nome: Lucas, salario: 100.5\n"
          ]
        }
      ]
    },
    {
      "cell_type": "code",
      "source": [
        "preço = 60.0\n",
        "mensagem = f\"o valor da passagem é {preço}\"\n",
        "print(mensagem)"
      ],
      "metadata": {
        "colab": {
          "base_uri": "https://localhost:8080/"
        },
        "id": "-SRwiLzl3Uhi",
        "outputId": "66a9536f-b875-441e-d3c7-9bf101036710"
      },
      "execution_count": 11,
      "outputs": [
        {
          "output_type": "stream",
          "name": "stdout",
          "text": [
            "o valor da passagem é 60.0\n"
          ]
        }
      ]
    },
    {
      "cell_type": "code",
      "source": [
        "nome = \"julia\"\n",
        "idade = 50\n",
        "\n",
        "print(nome*idade)\n"
      ],
      "metadata": {
        "colab": {
          "base_uri": "https://localhost:8080/"
        },
        "id": "NBYvouDL5wk4",
        "outputId": "7166f56a-b3f0-4651-aa81-a11115c78b6c"
      },
      "execution_count": 15,
      "outputs": [
        {
          "output_type": "stream",
          "name": "stdout",
          "text": [
            "juliajuliajuliajuliajuliajuliajuliajuliajuliajuliajuliajuliajuliajuliajuliajuliajuliajuliajuliajuliajuliajuliajuliajuliajuliajuliajuliajuliajuliajuliajuliajuliajuliajuliajuliajuliajuliajuliajuliajuliajuliajuliajuliajuliajuliajuliajuliajuliajuliajulia\n"
          ]
        }
      ]
    },
    {
      "cell_type": "code",
      "source": [
        "a = 9+9\n",
        "e = 3-3\n",
        "i = 18/3\n",
        "print (a+e+i)\n",
        "print (a-e-i)"
      ],
      "metadata": {
        "colab": {
          "base_uri": "https://localhost:8080/"
        },
        "id": "Qa6X1oKJ5_LZ",
        "outputId": "d30613dc-880d-4335-f092-f7bbe5af27cd"
      },
      "execution_count": 27,
      "outputs": [
        {
          "output_type": "stream",
          "name": "stdout",
          "text": [
            "24.0\n",
            "12.0\n"
          ]
        }
      ]
    },
    {
      "cell_type": "code",
      "source": [
        "empresa = \"Senai\"\n",
        "funcionarios = 300\n",
        "horas = 8\n",
        "mensagem = f\"a empresa: {empresa} contém uma quantidade de funcionarios que são {funcionarios} pessoas que trabalham {horas} horas por dia\"\n",
        "print(mensagem)"
      ],
      "metadata": {
        "colab": {
          "base_uri": "https://localhost:8080/"
        },
        "id": "waTusuMd64qf",
        "outputId": "ee9ba612-7d90-4028-d6ae-52d2d2ba5e9a"
      },
      "execution_count": 31,
      "outputs": [
        {
          "output_type": "stream",
          "name": "stdout",
          "text": [
            "a empresa: Senai contém uma quantidade de funcionarios que são 300 pessoas que trabalham 8 horas por dia\n"
          ]
        }
      ]
    },
    {
      "cell_type": "code",
      "source": [
        "flor = \"rosa\"\n",
        "planta = \" arvore\"\n",
        "vegetal = \" abobora \"\n",
        "quantidade =    300\n",
        "concatenada = flor + planta + vegetal + str(quantidade)\n",
        "print(concatenada)\n"
      ],
      "metadata": {
        "colab": {
          "base_uri": "https://localhost:8080/"
        },
        "id": "2rxpJ5BW64x3",
        "outputId": "5757bae0-1f44-4618-d161-b5442582e964"
      },
      "execution_count": 48,
      "outputs": [
        {
          "output_type": "stream",
          "name": "stdout",
          "text": [
            "rosa arvore abobora 300\n"
          ]
        }
      ]
    },
    {
      "cell_type": "code",
      "source": [
        "idade = 25\n",
        "mensagem = \"A idade do usuário é \" + str(idade)\n",
        "print(mensagem)"
      ],
      "metadata": {
        "colab": {
          "base_uri": "https://localhost:8080/"
        },
        "id": "6U4zpSaF_GM8",
        "outputId": "186f6be7-1382-4f42-8016-f7cf8080da37"
      },
      "execution_count": 38,
      "outputs": [
        {
          "output_type": "stream",
          "name": "stdout",
          "text": [
            "A idade do usuário é 25\n"
          ]
        }
      ]
    },
    {
      "cell_type": "code",
      "source": [
        "string1 = \"banana\"\n",
        "string2 = \" e\"\n",
        "string3 = \" pera\"\n",
        "\n",
        "print(string1 + string2 + string3)"
      ],
      "metadata": {
        "colab": {
          "base_uri": "https://localhost:8080/"
        },
        "id": "Gx0mu9KF65Jn",
        "outputId": "ef5edcd6-3d29-4bb3-a3de-aea1f8364fa9"
      },
      "execution_count": 37,
      "outputs": [
        {
          "output_type": "stream",
          "name": "stdout",
          "text": [
            "banana e pera\n"
          ]
        }
      ]
    },
    {
      "cell_type": "code",
      "source": [
        "numero_float = 43.7\n",
        "numero_inteiro = int(numero_float)\n",
        "print(numero_inteiro)"
      ],
      "metadata": {
        "colab": {
          "base_uri": "https://localhost:8080/"
        },
        "id": "kvpwxDNZ65Mf",
        "outputId": "7c50237f-a51f-40a3-f0e1-696953a2e908"
      },
      "execution_count": 50,
      "outputs": [
        {
          "output_type": "stream",
          "name": "stdout",
          "text": [
            "43\n"
          ]
        }
      ]
    },
    {
      "cell_type": "code",
      "source": [],
      "metadata": {
        "colab": {
          "base_uri": "https://localhost:8080/",
          "height": 210
        },
        "id": "kOcoaQUD65P_",
        "outputId": "443ca2c3-147d-4101-a565-f91965ee0902"
      },
      "execution_count": 53,
      "outputs": [
        {
          "output_type": "error",
          "ename": "TypeError",
          "evalue": "ignored",
          "traceback": [
            "\u001b[0;31m---------------------------------------------------------------------------\u001b[0m",
            "\u001b[0;31mTypeError\u001b[0m                                 Traceback (most recent call last)",
            "\u001b[0;32m<ipython-input-53-4c7eea7bec5e>\u001b[0m in \u001b[0;36m<cell line: 2>\u001b[0;34m()\u001b[0m\n\u001b[1;32m      1\u001b[0m \u001b[0mlista\u001b[0m \u001b[0;34m=\u001b[0m \u001b[0;34m[\u001b[0m\u001b[0;36m10\u001b[0m\u001b[0;34m,\u001b[0m \u001b[0;36m11\u001b[0m\u001b[0;34m,\u001b[0m \u001b[0;36m12\u001b[0m\u001b[0;34m,\u001b[0m \u001b[0;36m13\u001b[0m\u001b[0;34m]\u001b[0m\u001b[0;34m\u001b[0m\u001b[0;34m\u001b[0m\u001b[0m\n\u001b[0;32m----> 2\u001b[0;31m \u001b[0mnumero\u001b[0m \u001b[0;34m=\u001b[0m \u001b[0mint\u001b[0m\u001b[0;34m(\u001b[0m\u001b[0mlista\u001b[0m\u001b[0;34m)\u001b[0m\u001b[0;34m\u001b[0m\u001b[0;34m\u001b[0m\u001b[0m\n\u001b[0m\u001b[1;32m      3\u001b[0m \u001b[0mprint\u001b[0m\u001b[0;34m(\u001b[0m\u001b[0mlista\u001b[0m\u001b[0;34m)\u001b[0m\u001b[0;34m\u001b[0m\u001b[0;34m\u001b[0m\u001b[0m\n",
            "\u001b[0;31mTypeError\u001b[0m: int() argument must be a string, a bytes-like object or a real number, not 'list'"
          ]
        }
      ]
    },
    {
      "cell_type": "code",
      "source": [
        "float\n",
        "\n",
        "primeiro_deposito = 100.0\n",
        "segundo_deposito = 250.0\n",
        "deposito_total = primeiro_deposito + segundo_deposito\n",
        "\n",
        "print(deposito_total)\n"
      ],
      "metadata": {
        "colab": {
          "base_uri": "https://localhost:8080/"
        },
        "id": "U6jalGv965Uf",
        "outputId": "38e9685e-7860-40ba-ae58-c0fbb2d06909"
      },
      "execution_count": 55,
      "outputs": [
        {
          "output_type": "stream",
          "name": "stdout",
          "text": [
            "350.0\n"
          ]
        }
      ]
    },
    {
      "cell_type": "code",
      "source": [
        "tamanho = 5\n",
        "print(f'o tamanho é: {tamanho}')"
      ],
      "metadata": {
        "colab": {
          "base_uri": "https://localhost:8080/"
        },
        "id": "xHWL9t6A65XB",
        "outputId": "c88f44df-809a-485b-9b43-25edb171bf0a"
      },
      "execution_count": 56,
      "outputs": [
        {
          "output_type": "stream",
          "name": "stdout",
          "text": [
            "o tamanho é: 5\n"
          ]
        }
      ]
    },
    {
      "cell_type": "code",
      "source": [
        "idade = 18\n",
        "\n",
        "if idade >= 18:\n",
        "  print('você pode dirigir')\n",
        "else:\n",
        "  print('você não pode dirigir')"
      ],
      "metadata": {
        "colab": {
          "base_uri": "https://localhost:8080/"
        },
        "id": "icGcOAhA65Zg",
        "outputId": "6131c5df-b6df-4677-d0af-ce81cefbf6a9"
      },
      "execution_count": 64,
      "outputs": [
        {
          "output_type": "stream",
          "name": "stdout",
          "text": [
            "você pode dirigir\n"
          ]
        }
      ]
    },
    {
      "cell_type": "code",
      "source": [
        "a = 4\n",
        "b = 5\n",
        "if a>b:\n",
        "print('você passou de ano')\n",
        "else('você não passou de ano')"
      ],
      "metadata": {
        "colab": {
          "base_uri": "https://localhost:8080/",
          "height": 140
        },
        "id": "rVXr6_Vs65cT",
        "outputId": "dfeb426e-5066-4cd2-9375-198e8429849c"
      },
      "execution_count": 65,
      "outputs": [
        {
          "output_type": "error",
          "ename": "IndentationError",
          "evalue": "ignored",
          "traceback": [
            "\u001b[0;36m  File \u001b[0;32m\"<ipython-input-65-c69ac2586be9>\"\u001b[0;36m, line \u001b[0;32m4\u001b[0m\n\u001b[0;31m    print('você passou de ano')\u001b[0m\n\u001b[0m    ^\u001b[0m\n\u001b[0;31mIndentationError\u001b[0m\u001b[0;31m:\u001b[0m expected an indented block after 'if' statement on line 3\n"
          ]
        }
      ]
    },
    {
      "cell_type": "code",
      "source": [
        "idade: (\"digite sua idade\")\n",
        "\n",
        "if idade >= 18:\n",
        "    print(\"Você é maior de idade.\")\n",
        "else\n",
        "    print(\"Você é um adolescente.\")"
      ],
      "metadata": {
        "colab": {
          "base_uri": "https://localhost:8080/",
          "height": 140
        },
        "id": "dOy3kJWmG7e1",
        "outputId": "e228ede5-6d1e-48f0-91d3-d0b9400f8091"
      },
      "execution_count": 71,
      "outputs": [
        {
          "output_type": "error",
          "ename": "SyntaxError",
          "evalue": "ignored",
          "traceback": [
            "\u001b[0;36m  File \u001b[0;32m\"<ipython-input-71-d101a8b0dddb>\"\u001b[0;36m, line \u001b[0;32m5\u001b[0m\n\u001b[0;31m    else\u001b[0m\n\u001b[0m        ^\u001b[0m\n\u001b[0;31mSyntaxError\u001b[0m\u001b[0;31m:\u001b[0m expected ':'\n"
          ]
        }
      ]
    },
    {
      "cell_type": "code",
      "source": [
        "a = 1\n",
        "b = 2\n",
        "c = 3\n",
        "print(a-b-c)\n",
        "print(a*b/c)\n",
        "print(a+c+b)"
      ],
      "metadata": {
        "colab": {
          "base_uri": "https://localhost:8080/"
        },
        "id": "s-_oEVtlHatV",
        "outputId": "6bd9d1bc-bdd0-4d8e-feb8-a0cd0d5cffb1"
      },
      "execution_count": 74,
      "outputs": [
        {
          "output_type": "stream",
          "name": "stdout",
          "text": [
            "-4\n",
            "0.6666666666666666\n",
            "6\n"
          ]
        }
      ]
    },
    {
      "cell_type": "code",
      "source": [
        "horario= 19\n",
        "menina1 = \"amanda\"\n",
        "menina2 = \"gabriella\"\n",
        "menina3 = \"isa\"\n",
        "mensagem = f\"as meninas {menina1}, {menina2} e {menina3} marcaram de sair as {horario}hrs\"\n",
        "print(mensagem)"
      ],
      "metadata": {
        "colab": {
          "base_uri": "https://localhost:8080/"
        },
        "id": "pB-lyHkoHv_6",
        "outputId": "2b94148c-3db4-4524-f7eb-e2d415488cc7"
      },
      "execution_count": 76,
      "outputs": [
        {
          "output_type": "stream",
          "name": "stdout",
          "text": [
            "as meninas amanda, gabriella e isa marcaram de sair as 19hrs\n"
          ]
        }
      ]
    }
  ]
}
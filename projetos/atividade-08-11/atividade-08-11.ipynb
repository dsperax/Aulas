{
  "nbformat": 4,
  "nbformat_minor": 0,
  "metadata": {
    "colab": {
      "provenance": []
    },
    "kernelspec": {
      "name": "python3",
      "display_name": "Python 3"
    },
    "language_info": {
      "name": "python"
    }
  },
  "cells": [
    {
      "cell_type": "code",
      "execution_count": null,
      "metadata": {
        "id": "YiIWWsXp6kau"
      },
      "outputs": [],
      "source": [
        "a = 85\n",
        "b = 2\n",
        "c = 10\n",
        "print(c)\n",
        "c = (b * a)\n",
        "print(c)\n"
      ]
    },
    {
      "cell_type": "code",
      "source": [
        "a = 2\n",
        "b = 2\n",
        "c = 3\n",
        "print(a==b)\n",
        "print(a==c)"
      ],
      "metadata": {
        "id": "BiF6GX2t-QQ2"
      },
      "execution_count": null,
      "outputs": []
    },
    {
      "cell_type": "code",
      "source": [
        "a = 2\n",
        "b = 2\n",
        "c = 3\n",
        "print(a!=b)\n",
        "print(a!=c)"
      ],
      "metadata": {
        "id": "j47jmCTO-qb1"
      },
      "execution_count": null,
      "outputs": []
    },
    {
      "cell_type": "code",
      "source": [
        "a = \"2\"\n",
        "b = 2\n",
        "c = \"3\"\n",
        "print(a==b)\n",
        "print(a==c)"
      ],
      "metadata": {
        "id": "kLn2DBNf-8td"
      },
      "execution_count": null,
      "outputs": []
    },
    {
      "cell_type": "code",
      "source": [
        "a = (2 * 3)\n",
        "b = (18 / 3)\n",
        "c = (6)\n",
        "print(a==b==c)"
      ],
      "metadata": {
        "id": "LMIVFMGU_kKf"
      },
      "execution_count": null,
      "outputs": []
    },
    {
      "cell_type": "code",
      "source": [
        "a = 3\n",
        "b = 1\n",
        "c = 2\n",
        "print(a + b - c==c)"
      ],
      "metadata": {
        "colab": {
          "base_uri": "https://localhost:8080/"
        },
        "id": "zc-JIPUIA6Oc",
        "outputId": "663c017f-de5d-4109-a98e-a423b75f78a2"
      },
      "execution_count": 55,
      "outputs": [
        {
          "output_type": "stream",
          "name": "stdout",
          "text": [
            "True\n"
          ]
        }
      ]
    },
    {
      "cell_type": "code",
      "source": [
        "a = (9)\n",
        "b = (9)\n",
        "c= (18)\n",
        "print(a+b==c)"
      ],
      "metadata": {
        "id": "PEfP5mzGAW5c"
      },
      "execution_count": null,
      "outputs": []
    },
    {
      "cell_type": "code",
      "source": [
        "a = 7\n",
        "b = 9\n",
        "c = 16\n",
        "if (a + b==c):\n",
        "  print(\"caiu no if\")\n",
        "  print(a + b + c)\n",
        "\n",
        "else:\n",
        "  print(\"caiu no else\")\n",
        "  print(a / b * c)"
      ],
      "metadata": {
        "id": "iqrQ4nqoBlWt"
      },
      "execution_count": null,
      "outputs": []
    },
    {
      "cell_type": "code",
      "source": [
        "numeros = [2,7,124]\n",
        "subtrair = 3\n",
        "for i in range(len(numeros)):\n",
        "  numeros[i] = numeros[i] - subtrair\n",
        "print(numeros)"
      ],
      "metadata": {
        "colab": {
          "base_uri": "https://localhost:8080/"
        },
        "id": "yq5IEffzMJ3g",
        "outputId": "9ffa38a4-0c93-4840-a9a1-74dae0956b1e"
      },
      "execution_count": 66,
      "outputs": [
        {
          "output_type": "stream",
          "name": "stdout",
          "text": [
            "[-1, 4, 121]\n"
          ]
        }
      ]
    }
  ]
}
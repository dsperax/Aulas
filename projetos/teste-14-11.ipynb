{
  "nbformat": 4,
  "nbformat_minor": 0,
  "metadata": {
    "colab": {
      "provenance": []
    },
    "kernelspec": {
      "name": "python3",
      "display_name": "Python 3"
    },
    "language_info": {
      "name": "python"
    }
  },
  "cells": [
    {
      "cell_type": "code",
      "source": [
        "nome_usuario = input(\"Digite seu nome: \")\n",
        "a = 3\n",
        "b = 1\n",
        "c = 120\n",
        "\n",
        "soma_ab = a + b\n",
        "c = c ** 2\n",
        "\n",
        "if soma_ab > c:\n",
        "    resultado = [a, b, c]\n",
        "    print(f\"A soma de {a} e {b} é maior que o c de {c}. Resultado: {resultado}\")\n",
        "elif soma_ab == c:\n",
        "    print(\"Bingo!\")\n",
        "else:\n",
        "    print(f\"A soma de {a} e {b} é menor que o c de {c}. Soma: {soma_ab}, c de c: {c}\")"
      ],
      "metadata": {
        "colab": {
          "base_uri": "https://localhost:8080/"
        },
        "id": "j__OzXilD7WQ",
        "outputId": "23446be2-46c8-4897-f213-64e43a1cf1e1"
      },
      "execution_count": 28,
      "outputs": [
        {
          "output_type": "stream",
          "name": "stdout",
          "text": [
            "Digite seu nome: dani\n",
            "A soma de 3 e 1 é menor que o c de 14400. Soma: 4, c de c: 14400\n"
          ]
        }
      ]
    },
    {
      "cell_type": "code",
      "source": [
        "palavras = []\n",
        "for i in range(5):\n",
        "    palavra = input(f\"Digite a palavra {i + 1}: \")\n",
        "    palavras.append(palavra)\n",
        "\n",
        ""
      ],
      "metadata": {
        "colab": {
          "base_uri": "https://localhost:8080/"
        },
        "id": "oKh7zBy1KYaA",
        "outputId": "af411806-138e-47cc-c753-825e9496ddc4"
      },
      "execution_count": 35,
      "outputs": [
        {
          "name": "stdout",
          "output_type": "stream",
          "text": [
            "Digite a palavra 1: abacate\n",
            "Digite a palavra 2: laranja\n",
            "Digite a palavra 3: melão\n",
            "Digite a palavra 4: tomate\n",
            "Digite a palavra 5: limão\n"
          ]
        }
      ]
    }
  ]
}
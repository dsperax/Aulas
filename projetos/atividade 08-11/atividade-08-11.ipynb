{
  "nbformat": 4,
  "nbformat_minor": 0,
  "metadata": {
    "colab": {
      "provenance": []
    },
    "kernelspec": {
      "name": "python3",
      "display_name": "Python 3"
    },
    "language_info": {
      "name": "python"
    }
  },
  "cells": [
    {
      "cell_type": "code",
      "execution_count": 4,
      "metadata": {
        "colab": {
          "base_uri": "https://localhost:8080/"
        },
        "id": "9r-jkDV44SgG",
        "outputId": "2d4dd007-6b4d-4548-eb5f-44047badb42e"
      },
      "outputs": [
        {
          "output_type": "stream",
          "name": "stdout",
          "text": [
            "3\n",
            "-1\n"
          ]
        }
      ],
      "source": [
        "a = 1\n",
        "b = 2\n",
        "c = 3\n",
        "print(c)\n",
        "c = (a-b)\n",
        "print(c)"
      ]
    },
    {
      "cell_type": "code",
      "source": [
        "a = \"carros\"\n",
        "b = \"marcas\"\n",
        "C = \"fabricas\"\n"
      ],
      "metadata": {
        "id": "U65eKL8q9Kq4"
      },
      "execution_count": null,
      "outputs": []
    },
    {
      "cell_type": "code",
      "source": [
        "a = \"peixe\"\n",
        "b =  \" cavalo\"\n",
        "c = \"animais\"\n",
        "print(c)\n",
        "c = (a+b)\n",
        "print(c)"
      ],
      "metadata": {
        "colab": {
          "base_uri": "https://localhost:8080/"
        },
        "id": "cGRQrA2458tx",
        "outputId": "18eba55e-764c-4d73-d2c8-01f466b2634c"
      },
      "execution_count": 8,
      "outputs": [
        {
          "output_type": "stream",
          "name": "stdout",
          "text": [
            "animais\n",
            "peixe cavalo\n"
          ]
        }
      ]
    },
    {
      "cell_type": "code",
      "source": [
        "a = 5\n",
        "b = 50\n",
        "c = 500\n",
        "print(c)\n",
        "c = (a<=b)\n",
        "print(c)"
      ],
      "metadata": {
        "colab": {
          "base_uri": "https://localhost:8080/"
        },
        "id": "7H_Z0UlI8J3G",
        "outputId": "2deed7d8-6634-4b78-ce00-835d248d4c5e"
      },
      "execution_count": 23,
      "outputs": [
        {
          "output_type": "stream",
          "name": "stdout",
          "text": [
            "500\n",
            "True\n"
          ]
        }
      ]
    },
    {
      "cell_type": "code",
      "source": [
        "a = 50\n",
        "b = 10\n",
        "c = 30\n",
        "print(c)\n",
        "c = (a>b)\n",
        "print(c)"
      ],
      "metadata": {
        "colab": {
          "base_uri": "https://localhost:8080/"
        },
        "id": "6nkQQbBi6evp",
        "outputId": "a6f22524-ee35-431c-93a0-535748dccc98"
      },
      "execution_count": 11,
      "outputs": [
        {
          "output_type": "stream",
          "name": "stdout",
          "text": [
            "30\n",
            "True\n"
          ]
        }
      ]
    },
    {
      "cell_type": "code",
      "source": [
        "a = 22\n",
        "b = 15\n",
        "c = 44\n",
        "print(c)\n",
        "c = (a<b)\n",
        "print(c)"
      ],
      "metadata": {
        "colab": {
          "base_uri": "https://localhost:8080/"
        },
        "id": "Z81gK7f1696Q",
        "outputId": "4da36967-8d9d-41c9-8517-af89ffb73d43"
      },
      "execution_count": 16,
      "outputs": [
        {
          "output_type": "stream",
          "name": "stdout",
          "text": [
            "44\n",
            "False\n"
          ]
        }
      ]
    },
    {
      "cell_type": "code",
      "source": [
        "a = \"lua\"\n",
        "b = \" sol\"\n",
        "c = \"universo\"\n",
        "print(c)\n",
        "c = (a+b)\n",
        "print(c)\n"
      ],
      "metadata": {
        "colab": {
          "base_uri": "https://localhost:8080/"
        },
        "id": "dpiDiYkn7XEX",
        "outputId": "ce768e3c-18e2-43ea-ed5f-1b1924554a5a"
      },
      "execution_count": 19,
      "outputs": [
        {
          "output_type": "stream",
          "name": "stdout",
          "text": [
            "universo\n",
            "lua sol\n"
          ]
        }
      ]
    },
    {
      "cell_type": "code",
      "source": [
        "a = 12\n",
        "b = 23\n",
        "c = 34\n",
        "print(c)\n",
        "c = (a-b)\n",
        "print(c)\n",
        "c = (a+b)\n",
        "print(c)"
      ],
      "metadata": {
        "colab": {
          "base_uri": "https://localhost:8080/"
        },
        "id": "vjMsbRDn7xig",
        "outputId": "ecb5a85a-1add-4717-890c-f00412748b50"
      },
      "execution_count": 21,
      "outputs": [
        {
          "output_type": "stream",
          "name": "stdout",
          "text": [
            "34\n",
            "-11\n",
            "35\n"
          ]
        }
      ]
    },
    {
      "cell_type": "code",
      "source": [
        "a = 2\n",
        "b = 2\n",
        "c = 3\n",
        "print(a==b)\n",
        "print(a==c)"
      ],
      "metadata": {
        "colab": {
          "base_uri": "https://localhost:8080/"
        },
        "id": "20xZ7Ezf-PnE",
        "outputId": "ae8083ae-c949-48c6-ee2f-6e32e03c5e01"
      },
      "execution_count": 24,
      "outputs": [
        {
          "output_type": "stream",
          "name": "stdout",
          "text": [
            "True\n",
            "False\n"
          ]
        }
      ]
    },
    {
      "cell_type": "code",
      "source": [
        "a = 2\n",
        "b = 2\n",
        "c = 3\n",
        "print(a!=b)\n",
        "print(a!=c)"
      ],
      "metadata": {
        "colab": {
          "base_uri": "https://localhost:8080/"
        },
        "id": "5Vjnd2Iz-mWU",
        "outputId": "95beac13-b78a-45a7-c4b3-9d50f99c7121"
      },
      "execution_count": 25,
      "outputs": [
        {
          "output_type": "stream",
          "name": "stdout",
          "text": [
            "False\n",
            "True\n"
          ]
        }
      ]
    },
    {
      "cell_type": "code",
      "source": [
        "a = \"2\"\n",
        "b = 2\n",
        "c = 3\n",
        "print(a==b)\n",
        "print(b==c)"
      ],
      "metadata": {
        "colab": {
          "base_uri": "https://localhost:8080/"
        },
        "id": "EKn5OwJ5-99U",
        "outputId": "6cb1188e-aa51-4b32-8109-23fcfd54f988"
      },
      "execution_count": 27,
      "outputs": [
        {
          "output_type": "stream",
          "name": "stdout",
          "text": [
            "False\n",
            "False\n"
          ]
        }
      ]
    },
    {
      "cell_type": "code",
      "source": [
        "numero = 50\n",
        "\n",
        "if numero == 50:\n",
        "  print(\"o numero é igual a cinquenta\")\n",
        "else:\n",
        "  print(\"o numero não é igual a cinquenta\")"
      ],
      "metadata": {
        "colab": {
          "base_uri": "https://localhost:8080/"
        },
        "id": "9EilL30K_lRq",
        "outputId": "5930bbc4-14cf-4d11-dd3f-01d9f82de707"
      },
      "execution_count": 35,
      "outputs": [
        {
          "output_type": "stream",
          "name": "stdout",
          "text": [
            "o numero é igual a cinquenta\n"
          ]
        }
      ]
    },
    {
      "cell_type": "code",
      "source": [
        "fruta1 = \"pessego\"\n",
        "fruta2 = \"morango\"\n",
        "fruta3 = \"abacaxi\"\n",
        "if fruta1 == fruta2 == fruta3:\n",
        "    print(\"As frutas são iguais.\")\n",
        "else:\n",
        "    print(\"As frutas são diferentes.\")"
      ],
      "metadata": {
        "colab": {
          "base_uri": "https://localhost:8080/"
        },
        "id": "jjr996cWBqV7",
        "outputId": "2d62d4be-2508-4ea8-db54-fb1b368fb730"
      },
      "execution_count": 50,
      "outputs": [
        {
          "output_type": "stream",
          "name": "stdout",
          "text": [
            "As frutas são diferentes.\n"
          ]
        }
      ]
    },
    {
      "cell_type": "code",
      "source": [
        "carro1 = \"onix\"\n",
        "carro2 = \"fiesta\"\n",
        "carro3 = \"camaro\"\n",
        "carro4 = \"audi\"\n",
        "if carro1 == carro2:\n",
        "  print(\"os carros são iguas\")\n",
        "else:\n",
        "  print(\"os carros são diferentes\")"
      ],
      "metadata": {
        "colab": {
          "base_uri": "https://localhost:8080/"
        },
        "id": "BXLg2sEKDCqT",
        "outputId": "6e749767-b13a-49ca-d201-b4398dfdaea6"
      },
      "execution_count": 52,
      "outputs": [
        {
          "output_type": "stream",
          "name": "stdout",
          "text": [
            "os carros são diferentes\n"
          ]
        }
      ]
    },
    {
      "cell_type": "code",
      "source": [
        "cor = \"preto\"\n",
        "cores_preferidas = [\"rosa\", \"azul\", \"verde\", \"vermelho\", \"preto\"]\n",
        "\n",
        "if cor in cores_preferidas:\n",
        "    print(f\"{cor} é uma das cores preferidas.\")\n",
        "else:\n",
        "    print(f\"{cor} não está na lista de cores preferidas.\")"
      ],
      "metadata": {
        "colab": {
          "base_uri": "https://localhost:8080/"
        },
        "id": "cyWa48n3F7D-",
        "outputId": "9ca169e6-92ac-4f57-edf7-71f1adf04779"
      },
      "execution_count": 54,
      "outputs": [
        {
          "output_type": "stream",
          "name": "stdout",
          "text": [
            "preto é uma das cores preferidas.\n"
          ]
        }
      ]
    },
    {
      "cell_type": "code",
      "source": [
        "comida = \"sopa\"  \" acai\"\n",
        "comidas_do_restaurante = [\"camarao\", \"sopa\", \"macarrao\", \"sorvete\", \"acai\"]\n",
        "\n",
        "if comida in comidas_do_restaurante:\n",
        "  print(f'{comida}  nao tem na comidas do restaurante')\n",
        "else:\n",
        "  print(f'{comida} tem na comidas do restaurante')"
      ],
      "metadata": {
        "colab": {
          "base_uri": "https://localhost:8080/"
        },
        "id": "r2335QheGyqe",
        "outputId": "0e7330be-ec44-41d6-90be-c9b31a5f22aa"
      },
      "execution_count": 59,
      "outputs": [
        {
          "output_type": "stream",
          "name": "stdout",
          "text": [
            "sopa acai tem na comidas do restaurante\n"
          ]
        }
      ]
    },
    {
      "cell_type": "code",
      "source": [
        "palavra = \"paralelepipedo\"\n",
        "\n",
        "for letra in palavra:\n",
        "  if letra == 'u':\n",
        "    print(\"Encontrou a letra 'y'!\")\n",
        "  else:\n",
        "    print(\"não econtrou a letra 'u'!\")"
      ],
      "metadata": {
        "colab": {
          "base_uri": "https://localhost:8080/"
        },
        "id": "pVMz80U2M2hf",
        "outputId": "e38544b7-3842-4344-ae8b-47aead6fa38d"
      },
      "execution_count": 77,
      "outputs": [
        {
          "output_type": "stream",
          "name": "stdout",
          "text": [
            "não econtrou a letra 'u'!\n"
          ]
        }
      ]
    },
    {
      "cell_type": "code",
      "source": [
        "a = 3\n",
        "b = 7\n",
        "c = 24\n",
        "if a + b == c:\n",
        "  print(a * c / b)\n",
        "else:\n",
        "   print(a+b!=c)"
      ],
      "metadata": {
        "colab": {
          "base_uri": "https://localhost:8080/"
        },
        "id": "Uxj_TWolOB4f",
        "outputId": "36d5ae3d-ec0e-4d46-9eb7-1beef4380fd8"
      },
      "execution_count": 80,
      "outputs": [
        {
          "output_type": "stream",
          "name": "stdout",
          "text": [
            "True\n"
          ]
        }
      ]
    },
    {
      "cell_type": "code",
      "source": [
        "x = 22.6\n",
        "y = 77.2\n",
        "z = 44.7\n",
        "if z * x == y:\n",
        "  print(x * y / z)\n",
        "else:\n",
        "  print(x + y!= z)"
      ],
      "metadata": {
        "colab": {
          "base_uri": "https://localhost:8080/"
        },
        "id": "U41kPm8bQEkU",
        "outputId": "1c50ac1e-c74d-4718-992b-3475434d726f"
      },
      "execution_count": 83,
      "outputs": [
        {
          "output_type": "stream",
          "name": "stdout",
          "text": [
            "True\n"
          ]
        }
      ]
    },
    {
      "cell_type": "code",
      "source": [],
      "metadata": {
        "id": "HrGlmH8BRIkD"
      },
      "execution_count": null,
      "outputs": []
    }
  ]
}
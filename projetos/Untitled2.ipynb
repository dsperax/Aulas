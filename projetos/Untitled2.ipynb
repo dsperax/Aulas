{
  "nbformat": 4,
  "nbformat_minor": 0,
  "metadata": {
    "colab": {
      "provenance": [],
      "authorship_tag": "ABX9TyMVFw2TeJkLmjsPiSEx5xP4",
      "include_colab_link": true
    },
    "kernelspec": {
      "name": "python3",
      "display_name": "Python 3"
    },
    "language_info": {
      "name": "python"
    }
  },
  "cells": [
    {
      "cell_type": "markdown",
      "metadata": {
        "id": "view-in-github",
        "colab_type": "text"
      },
      "source": [
        "<a href=\"https://colab.research.google.com/github/dsperax/Aulas/blob/main/Untitled2.ipynb\" target=\"_parent\"><img src=\"https://colab.research.google.com/assets/colab-badge.svg\" alt=\"Open In Colab\"/></a>"
      ]
    },
    {
      "cell_type": "code",
      "execution_count": null,
      "metadata": {
        "id": "qnqWdtWyYzEo"
      },
      "outputs": [],
      "source": []
    },
    {
      "cell_type": "code",
      "source": [
        "print (\"unidade pública\")\n",
        "num_1 = int(input(\"digital o 1 numero:\"))\n",
        "num_2 = int (input( \"dital o 2 numero\"))\n",
        "\n",
        "saida = (num_1/num_2) * (num_1/num_2) # + - * / ()\n",
        "print (\"sua é saida:\")\n",
        "print (saida)"
      ],
      "metadata": {
        "colab": {
          "base_uri": "https://localhost:8080/"
        },
        "id": "ABViS_MOa_9H",
        "outputId": "50066a7e-b40b-4c81-97a0-d8f14b664de7"
      },
      "execution_count": 9,
      "outputs": [
        {
          "output_type": "stream",
          "name": "stdout",
          "text": [
            "unidade pública\n",
            "digital o 1 numero:3000\n",
            "dital o 2 numero5577\n",
            "sua é saida:\n",
            "0.28936181540973205\n"
          ]
        }
      ]
    }
  ]
}
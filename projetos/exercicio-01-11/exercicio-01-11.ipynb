{
  "nbformat": 4,
  "nbformat_minor": 0,
  "metadata": {
    "colab": {
      "provenance": []
    },
    "kernelspec": {
      "name": "python3",
      "display_name": "Python 3"
    },
    "language_info": {
      "name": "python"
    }
  },
  "cells": [
    {
      "cell_type": "code",
      "execution_count": 13,
      "metadata": {
        "colab": {
          "base_uri": "https://localhost:8080/"
        },
        "id": "xojKESa977vM",
        "outputId": "37f127bd-d8cb-4280-ccef-1eb1c68c6876"
      },
      "outputs": [
        {
          "output_type": "stream",
          "name": "stdout",
          "text": [
            "digite o primeiro numero78\n",
            "digite o segundo numero6\n",
            "digite o terceiro numero10\n",
            "digite o quarto numero20\n",
            "digite o quinto numero19\n",
            "-10\n"
          ]
        }
      ],
      "source": [
        "a = int(input('digite o primeiro numero'))\n",
        "b = int(input('digite o segundo numero'))\n",
        "c = int(input('digite o terceiro numero'))\n",
        "d = int(input('digite o quarto numero'))\n",
        "e = int(input('digite o quinto numero'))\n",
        "\n",
        "if (c>d):\n",
        "  print(c+d)\n",
        "else:\n",
        "  print(c-d)\n",
        "\n"
      ]
    },
    {
      "cell_type": "code",
      "source": [
        "frutos = ['uva', 'pera', 'maça', 'banaba', 'laranja']\n",
        "for fruta in frutos:\n",
        "    print(fruta)"
      ],
      "metadata": {
        "colab": {
          "base_uri": "https://localhost:8080/"
        },
        "id": "97wRzHn7Jxjf",
        "outputId": "84448c5c-c09a-4996-d8e9-07faa099558c"
      },
      "execution_count": 15,
      "outputs": [
        {
          "output_type": "stream",
          "name": "stdout",
          "text": [
            "uva\n",
            "pera\n",
            "maça\n",
            "banaba\n",
            "laranja\n"
          ]
        }
      ]
    },
    {
      "cell_type": "code",
      "source": [
        "frutos = ['uva', 'pera', 'maça', 'banana', 'laranja']\n",
        "sorted_frutos = sorted(frutos)\n",
        "print(sorted_frutos)\n",
        "print(frutos)"
      ],
      "metadata": {
        "colab": {
          "base_uri": "https://localhost:8080/"
        },
        "id": "eFPyZkVUOAak",
        "outputId": "ec127a73-b0a9-453f-8dbc-ef9e8cb6d2e6"
      },
      "execution_count": 19,
      "outputs": [
        {
          "output_type": "stream",
          "name": "stdout",
          "text": [
            "['banana', 'laranja', 'maça', 'pera', 'uva']\n",
            "['uva', 'pera', 'maça', 'banana', 'laranja']\n"
          ]
        }
      ]
    }
  ]
}
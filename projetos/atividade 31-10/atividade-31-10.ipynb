{
  "nbformat": 4,
  "nbformat_minor": 0,
  "metadata": {
    "colab": {
      "provenance": []
    },
    "kernelspec": {
      "name": "python3",
      "display_name": "Python 3"
    },
    "language_info": {
      "name": "python"
    }
  },
  "cells": [
    {
      "cell_type": "code",
      "execution_count": 30,
      "metadata": {
        "colab": {
          "base_uri": "https://localhost:8080/"
        },
        "id": "6uZEx0E10oXd",
        "outputId": "34267dbb-45aa-483a-f435-92a3484cbebe"
      },
      "outputs": [
        {
          "output_type": "stream",
          "name": "stdout",
          "text": [
            "Enter 1st number:12\n",
            "Enter 2nd number:6\n",
            "18\n"
          ]
        }
      ],
      "source": [
        "x = int(input('Enter 1st number:'))\n",
        "y = int(input('Enter 2nd number:'))\n",
        "\n",
        "if x>y:\n",
        "  print(x+y)\n",
        "\n",
        "else:\n",
        "  print(x-y)"
      ]
    },
    {
      "cell_type": "code",
      "source": [
        "a = int(input('Enter 1 number:'))\n",
        "b = int(input('Enter 2 number:'))\n",
        "\n",
        "if a>b:\n",
        "  print(a/b)\n",
        "\n",
        "elif a=b:\n",
        "  print('deu igual')\n",
        "\n",
        "else:\n",
        "  print(a*b)"
      ],
      "metadata": {
        "id": "VskWQ-cj-8u8",
        "outputId": "64b5bbcd-6068-4a12-dca4-c7c787bea23b",
        "colab": {
          "base_uri": "https://localhost:8080/",
          "height": 140
        }
      },
      "execution_count": 43,
      "outputs": [
        {
          "output_type": "error",
          "ename": "SyntaxError",
          "evalue": "ignored",
          "traceback": [
            "\u001b[0;36m  File \u001b[0;32m\"<ipython-input-43-7edceecaa42a>\"\u001b[0;36m, line \u001b[0;32m7\u001b[0m\n\u001b[0;31m    elif a=b:\u001b[0m\n\u001b[0m         ^\u001b[0m\n\u001b[0;31mSyntaxError\u001b[0m\u001b[0;31m:\u001b[0m invalid syntax. Maybe you meant '==' or ':=' instead of '='?\n"
          ]
        }
      ]
    }
  ]
}
{
  "nbformat": 4,
  "nbformat_minor": 0,
  "metadata": {
    "colab": {
      "provenance": []
    },
    "kernelspec": {
      "name": "python3",
      "display_name": "Python 3"
    },
    "language_info": {
      "name": "python"
    }
  },
  "cells": [
    {
      "cell_type": "code",
      "execution_count": 43,
      "metadata": {
        "colab": {
          "base_uri": "https://localhost:8080/"
        },
        "id": "1k-vrrqP3UCx",
        "outputId": "7b0da1af-1b40-40d7-88a1-5077383784a9"
      },
      "outputs": [
        {
          "output_type": "stream",
          "name": "stdout",
          "text": [
            "Olá, aqui iremos calcular as gramas e dos materiais para fazer um bolo, digite 'OK': ok\n",
            "Digite a quantidade de gramas de açucar: 120\n",
            "Digite a quantidade de gramas de trigo: 2000\n",
            "Digite a quantidade de gramas da manteiga: 100\n",
            "Digite a quantidade de ovos: 6\n",
            "Digite a quantidade de copos de leite: 4\n",
            "Digite a quantidade de colheres de fermento: 1\n",
            "\n",
            "\n",
            "A quantidade de gramas ao total que será usada para fazer o bolo é de 2220g, \n",
            "A quantidade de ovos são 6 ovos, \n",
            "A quantidade de copo(s) é 4 copos, \n",
            "E a quantidade de fermento são 1 colheres \n"
          ]
        }
      ],
      "source": [
        "a = input(\"Olá, aqui iremos calcular as gramas e dos materiais para fazer um bolo, digite 'OK': \")\n",
        "b = int(input(\"Digite a quantidade de gramas de açucar: \"))\n",
        "c = int(input(\"Digite a quantidade de gramas de trigo: \"))\n",
        "d = int(input(\"Digite a quantidade de gramas da manteiga: \"))\n",
        "e = input(\"Digite a quantidade de ovos: \")\n",
        "f = input(\"Digite a quantidade de copos de leite: \")\n",
        "g = input(\"Digite a quantidade de colheres de fermento: \")\n",
        "soma = (b + c + d)\n",
        "\n",
        "\n",
        "mensagem = f'\\n\\nA quantidade de gramas ao total que será usada para fazer o bolo é de {soma}g, \\nA quantidade de ovos são {e} ovos, \\nA quantidade de copo(s) é {f} copos, \\nE a quantidade de fermento são {g} colheres '\n",
        "print(mensagem)"
      ]
    },
    {
      "cell_type": "code",
      "source": [
        "a = (\"Boa noite \\U0001F319, vamos descobrir se está devendo o banco, para isso, precisamos de algumas informações!\")\n",
        "print(a)\n",
        "\n",
        "b = input(\"Digite seu nome completo: \")\n",
        "c = input(\"Digite sua data de nascimento:\")\n",
        "d = input(\"Digite seu CPF: \")\n",
        "\n",
        "e = float(input(\"\\n\\nOk, seus dados foram localizados, agora preciso que coloque o ultimo valor gasto com cartão:\"))\n",
        "\n",
        "if e > 100:\n",
        "    print(\"Você ultrapassou o limite de gastos. Está devendo! \\U0001F62D\")\n",
        "else:\n",
        "    print(\"Seus gastos estão dentro do limite, não está devendo!! Parabéns \\U0001F600\")\n"
      ],
      "metadata": {
        "colab": {
          "base_uri": "https://localhost:8080/"
        },
        "id": "hdRxvQWa_aC7",
        "outputId": "ceb0789e-de15-4d76-cf85-809acfa2df88"
      },
      "execution_count": 42,
      "outputs": [
        {
          "output_type": "stream",
          "name": "stdout",
          "text": [
            "Boa noite 🌙x, vamos descobrir se está devendo o banco, para isso, precisamos de algumas informações!\n",
            "Digite seu nome completo: 000000\n",
            "Digite sua data de nascimento:0000000000\n",
            "Digite seu CPF: 000000000\n",
            "\n",
            "\n",
            "Ok, seus dados foram localizados, agora preciso que coloque o ultimo valor gasto com cartão:100\n",
            "Seus gastos estão dentro do limite, não está devendo!! Parabéns 😀\n"
          ]
        }
      ]
    },
    {
      "cell_type": "code",
      "source": [
        "a = (\"A empresa Senai oferece as seguintes vagas de empregos: \")\n",
        "print(a)\n",
        "\n",
        "vagas = [\"Motoboy, Recepcionista, Socorrista, Professor, Auxiliar, Banqueiro, Faxineiro\"]\n",
        "print(vagas)\n",
        "\n",
        "b = input(\"\\nDigite aqui sua especialidade em qual area deseja atuar: \")\n",
        "\n",
        "\n",
        "encontrado = True\n",
        "for vaga in vagas:\n",
        "  if nome == b:\n",
        "    encontrado = False\n",
        "    break\n",
        "\n",
        "  if encontrado:\n",
        "    print(f\"{b} foi encontrado na lista de nomes.\")\n",
        "  else:\n",
        "    print(f\"{b} não foi encontrado na lista de nomes.\")"
      ],
      "metadata": {
        "colab": {
          "base_uri": "https://localhost:8080/",
          "height": 327
        },
        "id": "ms-NAONeMLBv",
        "outputId": "d96a0ec3-0fc4-4b5b-faeb-da5baff79fa0"
      },
      "execution_count": 64,
      "outputs": [
        {
          "name": "stdout",
          "output_type": "stream",
          "text": [
            "A empresa Senai oferece as seguintes vagas de empregos: \n",
            "['Motoboy, Recepcionista, Socorrista, Professor, Auxiliar, Banqueiro, Faxineiro']\n",
            "\n",
            "Digite aqui sua especialidade em qual area deseja atuar: Auxiliar\n"
          ]
        },
        {
          "output_type": "error",
          "ename": "NameError",
          "evalue": "ignored",
          "traceback": [
            "\u001b[0;31m---------------------------------------------------------------------------\u001b[0m",
            "\u001b[0;31mNameError\u001b[0m                                 Traceback (most recent call last)",
            "\u001b[0;32m<ipython-input-64-ac4a278ee936>\u001b[0m in \u001b[0;36m<cell line: 11>\u001b[0;34m()\u001b[0m\n\u001b[1;32m     10\u001b[0m \u001b[0mencontrado\u001b[0m \u001b[0;34m=\u001b[0m \u001b[0;32mTrue\u001b[0m\u001b[0;34m\u001b[0m\u001b[0;34m\u001b[0m\u001b[0m\n\u001b[1;32m     11\u001b[0m \u001b[0;32mfor\u001b[0m \u001b[0mvaga\u001b[0m \u001b[0;32min\u001b[0m \u001b[0mvagas\u001b[0m\u001b[0;34m:\u001b[0m\u001b[0;34m\u001b[0m\u001b[0;34m\u001b[0m\u001b[0m\n\u001b[0;32m---> 12\u001b[0;31m   \u001b[0;32mif\u001b[0m \u001b[0mnome\u001b[0m \u001b[0;34m==\u001b[0m \u001b[0mb\u001b[0m\u001b[0;34m:\u001b[0m\u001b[0;34m\u001b[0m\u001b[0;34m\u001b[0m\u001b[0m\n\u001b[0m\u001b[1;32m     13\u001b[0m     \u001b[0mencontrado\u001b[0m \u001b[0;34m=\u001b[0m \u001b[0;32mFalse\u001b[0m\u001b[0;34m\u001b[0m\u001b[0;34m\u001b[0m\u001b[0m\n\u001b[1;32m     14\u001b[0m     \u001b[0;32mbreak\u001b[0m\u001b[0;34m\u001b[0m\u001b[0;34m\u001b[0m\u001b[0m\n",
            "\u001b[0;31mNameError\u001b[0m: name 'nome' is not defined"
          ]
        }
      ]
    }
  ]
}
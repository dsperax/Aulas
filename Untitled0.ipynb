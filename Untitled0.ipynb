{
  "nbformat": 4,
  "nbformat_minor": 0,
  "metadata": {
    "colab": {
      "provenance": [],
      "authorship_tag": "ABX9TyMJQXbHpK9frbgUpxtE0vMm",
      "include_colab_link": true
    },
    "kernelspec": {
      "name": "python3",
      "display_name": "Python 3"
    },
    "language_info": {
      "name": "python"
    }
  },
  "cells": [
    {
      "cell_type": "markdown",
      "metadata": {
        "id": "view-in-github",
        "colab_type": "text"
      },
      "source": [
        "<a href=\"https://colab.research.google.com/github/dsperax/Aulas/blob/feature%2Fsamile-1/Untitled0.ipynb\" target=\"_parent\"><img src=\"https://colab.research.google.com/assets/colab-badge.svg\" alt=\"Open In Colab\"/></a>"
      ]
    },
    {
      "cell_type": "code",
      "execution_count": 10,
      "metadata": {
        "colab": {
          "base_uri": "https://localhost:8080/"
        },
        "id": "_fjgCYk9ZVXl",
        "outputId": "dbe0b995-fe7f-47ff-b129-6e4d3472f942"
      },
      "outputs": [
        {
          "output_type": "stream",
          "name": "stdout",
          "text": [
            "bem vindo a em que ano você nasceu\n",
            "em que ano você esta2023\n",
            "qual sua idade39\n",
            "sua saida é:\n",
            "1984\n"
          ]
        }
      ],
      "source": [
        "print (\"bem vindo a em que ano você nasceu\")\n",
        "num_1 = int(input(\"em que ano você esta\"))\n",
        "num_2 = int(input(\"qual sua idade\"))\n",
        "saida = (num_1 - num_2)\n",
        "print (\"sua saida é:\")\n",
        "print (saida)"
      ]
    },
    {
      "cell_type": "code",
      "source": [],
      "metadata": {
        "id": "JT_YOWSuaBK2"
      },
      "execution_count": null,
      "outputs": []
    }
  ]
}
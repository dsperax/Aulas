{
  "nbformat": 4,
  "nbformat_minor": 0,
  "metadata": {
    "colab": {
      "provenance": [],
      "authorship_tag": "ABX9TyP/znaLDzpfkgnUGFxhnBAA",
      "include_colab_link": true
    },
    "kernelspec": {
      "name": "python3",
      "display_name": "Python 3"
    },
    "language_info": {
      "name": "python"
    }
  },
  "cells": [
    {
      "cell_type": "markdown",
      "metadata": {
        "id": "view-in-github",
        "colab_type": "text"
      },
      "source": [
        "<a href=\"https://colab.research.google.com/github/dsperax/Aulas/blob/main/Untitled0.ipynb\" target=\"_parent\"><img src=\"https://colab.research.google.com/assets/colab-badge.svg\" alt=\"Open In Colab\"/></a>"
      ]
    },
    {
      "cell_type": "code",
      "execution_count": 5,
      "metadata": {
        "colab": {
          "base_uri": "https://localhost:8080/"
        },
        "id": "JFH5JidaA3e3",
        "outputId": "593a06dc-428c-40e9-c84f-9dfa5cf030e7"
      },
      "outputs": [
        {
          "output_type": "stream",
          "name": "stdout",
          "text": [
            "apresenta um programa\n",
            "digite o 1° numero :4\n",
            "digite o 2° numero :3\n",
            "sua saida é\n",
            "21\n"
          ]
        }
      ],
      "source": [
        "print (\"apresenta um programa\")\n",
        "letra_a = int(input(\"digite o 1° numero :\"))\n",
        "letra_b = int(input(\"digite o 2° numero :\"))\n",
        "\n",
        "saida= ((letra_a*letra_b) + (letra_b*letra_b))\n",
        "print (\"sua saida é\")\n",
        "print (saida)\n",
        "\n",
        "\n",
        "\n"
      ]
    }
  ]
}